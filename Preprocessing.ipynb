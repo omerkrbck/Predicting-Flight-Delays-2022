{
 "cells": [
  {
   "cell_type": "code",
   "execution_count": 2,
   "id": "ea787448-9304-4c2b-b7ff-4354ed9480f6",
   "metadata": {},
   "outputs": [],
   "source": [
    "import pandas as pd\n",
    "import seaborn as sns\n",
    "import matplotlib.pyplot as plt"
   ]
  },
  {
   "cell_type": "code",
   "execution_count": 3,
   "id": "7be909c8-6df3-4db0-b890-1463831c47bf",
   "metadata": {},
   "outputs": [
    {
     "data": {
      "text/html": [
       "<div>\n",
       "<style scoped>\n",
       "    .dataframe tbody tr th:only-of-type {\n",
       "        vertical-align: middle;\n",
       "    }\n",
       "\n",
       "    .dataframe tbody tr th {\n",
       "        vertical-align: top;\n",
       "    }\n",
       "\n",
       "    .dataframe thead th {\n",
       "        text-align: right;\n",
       "    }\n",
       "</style>\n",
       "<table border=\"1\" class=\"dataframe\">\n",
       "  <thead>\n",
       "    <tr style=\"text-align: right;\">\n",
       "      <th></th>\n",
       "      <th>Unnamed: 0</th>\n",
       "      <th>Quarter</th>\n",
       "      <th>Month</th>\n",
       "      <th>DayofMonth</th>\n",
       "      <th>DayOfWeek</th>\n",
       "      <th>FlightDate</th>\n",
       "      <th>Marketing_Airline_Network</th>\n",
       "      <th>OriginCityName</th>\n",
       "      <th>DestCityName</th>\n",
       "      <th>DepDelay</th>\n",
       "      <th>ArrDelay</th>\n",
       "      <th>Cancelled</th>\n",
       "      <th>Diverted</th>\n",
       "      <th>AirTime</th>\n",
       "      <th>Distance</th>\n",
       "      <th>CarrierDelay</th>\n",
       "      <th>WeatherDelay</th>\n",
       "      <th>NASDelay</th>\n",
       "      <th>SecurityDelay</th>\n",
       "      <th>LateAircraftDelay</th>\n",
       "    </tr>\n",
       "  </thead>\n",
       "  <tbody>\n",
       "    <tr>\n",
       "      <th>0</th>\n",
       "      <td>0</td>\n",
       "      <td>1</td>\n",
       "      <td>1</td>\n",
       "      <td>6</td>\n",
       "      <td>4</td>\n",
       "      <td>2022-01-06</td>\n",
       "      <td>DL</td>\n",
       "      <td>Fort Lauderdale, FL</td>\n",
       "      <td>New York, NY</td>\n",
       "      <td>NaN</td>\n",
       "      <td>NaN</td>\n",
       "      <td>1.0</td>\n",
       "      <td>0.0</td>\n",
       "      <td>NaN</td>\n",
       "      <td>1076.0</td>\n",
       "      <td>NaN</td>\n",
       "      <td>NaN</td>\n",
       "      <td>NaN</td>\n",
       "      <td>NaN</td>\n",
       "      <td>NaN</td>\n",
       "    </tr>\n",
       "    <tr>\n",
       "      <th>1</th>\n",
       "      <td>1</td>\n",
       "      <td>1</td>\n",
       "      <td>1</td>\n",
       "      <td>6</td>\n",
       "      <td>4</td>\n",
       "      <td>2022-01-06</td>\n",
       "      <td>DL</td>\n",
       "      <td>Atlanta, GA</td>\n",
       "      <td>Fort Lauderdale, FL</td>\n",
       "      <td>-4.0</td>\n",
       "      <td>-1.0</td>\n",
       "      <td>0.0</td>\n",
       "      <td>0.0</td>\n",
       "      <td>93.0</td>\n",
       "      <td>581.0</td>\n",
       "      <td>NaN</td>\n",
       "      <td>NaN</td>\n",
       "      <td>NaN</td>\n",
       "      <td>NaN</td>\n",
       "      <td>NaN</td>\n",
       "    </tr>\n",
       "    <tr>\n",
       "      <th>2</th>\n",
       "      <td>2</td>\n",
       "      <td>1</td>\n",
       "      <td>1</td>\n",
       "      <td>6</td>\n",
       "      <td>4</td>\n",
       "      <td>2022-01-06</td>\n",
       "      <td>DL</td>\n",
       "      <td>Fort Lauderdale, FL</td>\n",
       "      <td>Atlanta, GA</td>\n",
       "      <td>-2.0</td>\n",
       "      <td>-12.0</td>\n",
       "      <td>0.0</td>\n",
       "      <td>0.0</td>\n",
       "      <td>83.0</td>\n",
       "      <td>581.0</td>\n",
       "      <td>NaN</td>\n",
       "      <td>NaN</td>\n",
       "      <td>NaN</td>\n",
       "      <td>NaN</td>\n",
       "      <td>NaN</td>\n",
       "    </tr>\n",
       "    <tr>\n",
       "      <th>3</th>\n",
       "      <td>3</td>\n",
       "      <td>1</td>\n",
       "      <td>1</td>\n",
       "      <td>6</td>\n",
       "      <td>4</td>\n",
       "      <td>2022-01-06</td>\n",
       "      <td>DL</td>\n",
       "      <td>Fort Lauderdale, FL</td>\n",
       "      <td>Raleigh/Durham, NC</td>\n",
       "      <td>-5.0</td>\n",
       "      <td>-15.0</td>\n",
       "      <td>0.0</td>\n",
       "      <td>0.0</td>\n",
       "      <td>93.0</td>\n",
       "      <td>680.0</td>\n",
       "      <td>NaN</td>\n",
       "      <td>NaN</td>\n",
       "      <td>NaN</td>\n",
       "      <td>NaN</td>\n",
       "      <td>NaN</td>\n",
       "    </tr>\n",
       "    <tr>\n",
       "      <th>4</th>\n",
       "      <td>4</td>\n",
       "      <td>1</td>\n",
       "      <td>1</td>\n",
       "      <td>6</td>\n",
       "      <td>4</td>\n",
       "      <td>2022-01-06</td>\n",
       "      <td>DL</td>\n",
       "      <td>Atlanta, GA</td>\n",
       "      <td>Jackson/Vicksburg, MS</td>\n",
       "      <td>-4.0</td>\n",
       "      <td>-11.0</td>\n",
       "      <td>0.0</td>\n",
       "      <td>0.0</td>\n",
       "      <td>60.0</td>\n",
       "      <td>341.0</td>\n",
       "      <td>NaN</td>\n",
       "      <td>NaN</td>\n",
       "      <td>NaN</td>\n",
       "      <td>NaN</td>\n",
       "      <td>NaN</td>\n",
       "    </tr>\n",
       "  </tbody>\n",
       "</table>\n",
       "</div>"
      ],
      "text/plain": [
       "   Unnamed: 0  Quarter  Month  DayofMonth  DayOfWeek  FlightDate  \\\n",
       "0           0        1      1           6          4  2022-01-06   \n",
       "1           1        1      1           6          4  2022-01-06   \n",
       "2           2        1      1           6          4  2022-01-06   \n",
       "3           3        1      1           6          4  2022-01-06   \n",
       "4           4        1      1           6          4  2022-01-06   \n",
       "\n",
       "  Marketing_Airline_Network       OriginCityName           DestCityName  \\\n",
       "0                        DL  Fort Lauderdale, FL           New York, NY   \n",
       "1                        DL          Atlanta, GA    Fort Lauderdale, FL   \n",
       "2                        DL  Fort Lauderdale, FL            Atlanta, GA   \n",
       "3                        DL  Fort Lauderdale, FL     Raleigh/Durham, NC   \n",
       "4                        DL          Atlanta, GA  Jackson/Vicksburg, MS   \n",
       "\n",
       "   DepDelay  ArrDelay  Cancelled  Diverted  AirTime  Distance  CarrierDelay  \\\n",
       "0       NaN       NaN        1.0       0.0      NaN    1076.0           NaN   \n",
       "1      -4.0      -1.0        0.0       0.0     93.0     581.0           NaN   \n",
       "2      -2.0     -12.0        0.0       0.0     83.0     581.0           NaN   \n",
       "3      -5.0     -15.0        0.0       0.0     93.0     680.0           NaN   \n",
       "4      -4.0     -11.0        0.0       0.0     60.0     341.0           NaN   \n",
       "\n",
       "   WeatherDelay  NASDelay  SecurityDelay  LateAircraftDelay  \n",
       "0           NaN       NaN            NaN                NaN  \n",
       "1           NaN       NaN            NaN                NaN  \n",
       "2           NaN       NaN            NaN                NaN  \n",
       "3           NaN       NaN            NaN                NaN  \n",
       "4           NaN       NaN            NaN                NaN  "
      ]
     },
     "execution_count": 3,
     "metadata": {},
     "output_type": "execute_result"
    }
   ],
   "source": [
    "df=pd.read_csv(\"2022_Flights.csv\")    # read csv file - loading data set\n",
    "df.head()"
   ]
  },
  {
   "cell_type": "code",
   "execution_count": 4,
   "id": "29026708-1fdc-47f6-a1d6-4cfc7ac61e24",
   "metadata": {},
   "outputs": [],
   "source": [
    "df.drop(\"Unnamed: 0\", axis=1, inplace=True)"
   ]
  },
  {
   "cell_type": "code",
   "execution_count": 5,
   "id": "2bb14716-9706-4331-98ab-d82afdf70ff7",
   "metadata": {},
   "outputs": [
    {
     "data": {
      "text/plain": [
       "(7013508, 19)"
      ]
     },
     "execution_count": 5,
     "metadata": {},
     "output_type": "execute_result"
    }
   ],
   "source": [
    "df.shape"
   ]
  },
  {
   "cell_type": "code",
   "execution_count": 6,
   "id": "10641034-7311-4661-8594-e8a2c4d6aed8",
   "metadata": {},
   "outputs": [
    {
     "data": {
      "text/plain": [
       "133256652"
      ]
     },
     "execution_count": 6,
     "metadata": {},
     "output_type": "execute_result"
    }
   ],
   "source": [
    "df.size"
   ]
  },
  {
   "cell_type": "code",
   "execution_count": 7,
   "id": "b034c1df-a873-44a5-b5cd-11052304bbe3",
   "metadata": {},
   "outputs": [
    {
     "data": {
      "text/plain": [
       "Quarter                        int64\n",
       "Month                          int64\n",
       "DayofMonth                     int64\n",
       "DayOfWeek                      int64\n",
       "FlightDate                    object\n",
       "Marketing_Airline_Network     object\n",
       "OriginCityName                object\n",
       "DestCityName                  object\n",
       "DepDelay                     float64\n",
       "ArrDelay                     float64\n",
       "Cancelled                    float64\n",
       "Diverted                     float64\n",
       "AirTime                      float64\n",
       "Distance                     float64\n",
       "CarrierDelay                 float64\n",
       "WeatherDelay                 float64\n",
       "NASDelay                     float64\n",
       "SecurityDelay                float64\n",
       "LateAircraftDelay            float64\n",
       "dtype: object"
      ]
     },
     "execution_count": 7,
     "metadata": {},
     "output_type": "execute_result"
    }
   ],
   "source": [
    "df.dtypes"
   ]
  },
  {
   "cell_type": "code",
   "execution_count": 8,
   "id": "6c2ccf45-94b9-450c-a727-3721d5b31085",
   "metadata": {},
   "outputs": [
    {
     "name": "stdout",
     "output_type": "stream",
     "text": [
      "<class 'pandas.core.frame.DataFrame'>\n",
      "RangeIndex: 7013508 entries, 0 to 7013507\n",
      "Data columns (total 19 columns):\n",
      " #   Column                     Dtype  \n",
      "---  ------                     -----  \n",
      " 0   Quarter                    int64  \n",
      " 1   Month                      int64  \n",
      " 2   DayofMonth                 int64  \n",
      " 3   DayOfWeek                  int64  \n",
      " 4   FlightDate                 object \n",
      " 5   Marketing_Airline_Network  object \n",
      " 6   OriginCityName             object \n",
      " 7   DestCityName               object \n",
      " 8   DepDelay                   float64\n",
      " 9   ArrDelay                   float64\n",
      " 10  Cancelled                  float64\n",
      " 11  Diverted                   float64\n",
      " 12  AirTime                    float64\n",
      " 13  Distance                   float64\n",
      " 14  CarrierDelay               float64\n",
      " 15  WeatherDelay               float64\n",
      " 16  NASDelay                   float64\n",
      " 17  SecurityDelay              float64\n",
      " 18  LateAircraftDelay          float64\n",
      "dtypes: float64(11), int64(4), object(4)\n",
      "memory usage: 1016.7+ MB\n"
     ]
    }
   ],
   "source": [
    "df.info()    # getting information about the data"
   ]
  },
  {
   "cell_type": "code",
   "execution_count": 9,
   "id": "ae169de7-af41-42cb-9848-3644662712f7",
   "metadata": {},
   "outputs": [
    {
     "data": {
      "text/plain": [
       "Index(['Quarter', 'Month', 'DayofMonth', 'DayOfWeek', 'FlightDate',\n",
       "       'Marketing_Airline_Network', 'OriginCityName', 'DestCityName',\n",
       "       'DepDelay', 'ArrDelay', 'Cancelled', 'Diverted', 'AirTime', 'Distance',\n",
       "       'CarrierDelay', 'WeatherDelay', 'NASDelay', 'SecurityDelay',\n",
       "       'LateAircraftDelay'],\n",
       "      dtype='object')"
      ]
     },
     "execution_count": 9,
     "metadata": {},
     "output_type": "execute_result"
    }
   ],
   "source": [
    "df.columns"
   ]
  },
  {
   "cell_type": "markdown",
   "id": "b391a6a1-4649-4e26-a7b3-85cd9dfd4028",
   "metadata": {},
   "source": [
    "Colums and Their Descriptions\n",
    "\n",
    "Quarter     :  Quarter (1-4) \n",
    "\n",
    "Month       :  Month\n",
    "\n",
    "DayofMonth  :  Day of Month\n",
    "\n",
    "DayOfWeek   :  Day of Week\n",
    "\n",
    "\n",
    "FlightDate  :  Date of the Flight\n",
    "\n",
    "Marketing_Airline_Network  :  Airline Identifier\n",
    "\n",
    "OriginCityName  :  Origin Airport, City Name\n",
    "\n",
    "DestCityName     :  Destination Airport, City Name\n",
    "\n",
    "DepDelay         :  Difference in minutes between scheduled and actual departure time. Early departures show negative numbers\n",
    "\n",
    "ArrDelay         :   Difference in minutes between scheduled and actual arrival time. Early arrivals show negative numbers\n",
    "\n",
    "Cancelled        :   Cancelled Flight (1=Yes)\n",
    "\n",
    "Diverted         :   Diverted Flight (1=Yes)\n",
    "\n",
    "AirTime          :   Flight Time, in Minutes\n",
    "\n",
    "Distance         :    Distance between airports (miles) \n",
    "\n",
    "CarrierDelay     :   Delay caused by the airline in minutes\n",
    "\n",
    "WeatherDelay     :   Delay caused by weather\n",
    "\n",
    "NASDelay         :   Delay caused by air system\n",
    "\n",
    "SecurityDelay    :   Delay caused by security reasons\n",
    "\n",
    "LateAircraftDelay :   Delay caused as a result of another flight on the same aircraft delayed"
   ]
  },
  {
   "cell_type": "code",
   "execution_count": 10,
   "id": "9051b3a3-5ff1-4b1d-9c64-056fd67becc3",
   "metadata": {},
   "outputs": [],
   "source": [
    "df.rename(columns ={\"Marketing_Airline_Network\":\"Airlines\"}, inplace=True)"
   ]
  },
  {
   "cell_type": "code",
   "execution_count": 11,
   "id": "af1d2115-5ca5-43b8-a5e2-b3b348b94dce",
   "metadata": {},
   "outputs": [
    {
     "data": {
      "text/plain": [
       "array(['DL', 'F9', 'G4', 'HA', 'AA', 'NK', 'AS', 'WN', 'UA', 'B6'],\n",
       "      dtype=object)"
      ]
     },
     "execution_count": 11,
     "metadata": {},
     "output_type": "execute_result"
    }
   ],
   "source": [
    "df.Airlines.unique()"
   ]
  },
  {
   "cell_type": "markdown",
   "id": "e9e133da-ef91-4cf4-8dca-12398922af17",
   "metadata": {
    "tags": []
   },
   "source": [
    "I will change the names of airlines to the extended names of them. I find out the extended names from wikipedia."
   ]
  },
  {
   "cell_type": "code",
   "execution_count": 12,
   "id": "9e92940e-bee6-4e21-89f5-0674b65d9432",
   "metadata": {},
   "outputs": [],
   "source": [
    "df['Airlines'].replace({\n",
    "    'DL':'Delta Airlines',\n",
    "    'F9':'Frontier Airlines',\n",
    "    'G4':'Allegiant Air',\n",
    "    'HA':'Hawaiian Airlines',\n",
    "    'AA':'American Airlines',\n",
    "    'NK':'Spirit Airlines',\n",
    "    'AS':'Alaska Airlines',\n",
    "    'WN':'Southwest Airlines',    \n",
    "    'UA':'United Airlines',\n",
    "    'B6':'JetBlue Airways',\n",
    "}, inplace=True)"
   ]
  },
  {
   "cell_type": "code",
   "execution_count": 13,
   "id": "cdde7671-ce9e-4471-a24f-f69afab5cffd",
   "metadata": {
    "tags": []
   },
   "outputs": [
    {
     "data": {
      "text/plain": [
       "array(['Delta Airlines', 'Frontier Airlines', 'Allegiant Air',\n",
       "       'Hawaiian Airlines', 'American Airlines', 'Spirit Airlines',\n",
       "       'Alaska Airlines', 'Southwest Airlines', 'United Airlines',\n",
       "       'JetBlue Airways'], dtype=object)"
      ]
     },
     "execution_count": 13,
     "metadata": {},
     "output_type": "execute_result"
    }
   ],
   "source": [
    "df.Airlines.unique()"
   ]
  },
  {
   "cell_type": "code",
   "execution_count": 14,
   "id": "81d5af39-6061-44f6-be98-c3110a6d367c",
   "metadata": {
    "tags": []
   },
   "outputs": [
    {
     "data": {
      "text/plain": [
       "American Airlines     1759257\n",
       "Delta Airlines        1448920\n",
       "Southwest Airlines    1307149\n",
       "United Airlines       1263956\n",
       "Alaska Airlines        382544\n",
       "JetBlue Airways        273058\n",
       "Spirit Airlines        232400\n",
       "Frontier Airlines      155482\n",
       "Allegiant Air          116877\n",
       "Hawaiian Airlines       73865\n",
       "Name: Airlines, dtype: int64"
      ]
     },
     "execution_count": 14,
     "metadata": {},
     "output_type": "execute_result"
    }
   ],
   "source": [
    "df.Airlines.value_counts()"
   ]
  },
  {
   "cell_type": "code",
   "execution_count": 15,
   "id": "4e94fc25-3800-42e4-9355-549c567abd9c",
   "metadata": {},
   "outputs": [
    {
     "data": {
      "text/html": [
       "<div>\n",
       "<style scoped>\n",
       "    .dataframe tbody tr th:only-of-type {\n",
       "        vertical-align: middle;\n",
       "    }\n",
       "\n",
       "    .dataframe tbody tr th {\n",
       "        vertical-align: top;\n",
       "    }\n",
       "\n",
       "    .dataframe thead th {\n",
       "        text-align: right;\n",
       "    }\n",
       "</style>\n",
       "<table border=\"1\" class=\"dataframe\">\n",
       "  <thead>\n",
       "    <tr style=\"text-align: right;\">\n",
       "      <th></th>\n",
       "      <th>count</th>\n",
       "      <th>mean</th>\n",
       "      <th>std</th>\n",
       "      <th>min</th>\n",
       "      <th>25%</th>\n",
       "      <th>50%</th>\n",
       "      <th>75%</th>\n",
       "      <th>max</th>\n",
       "    </tr>\n",
       "  </thead>\n",
       "  <tbody>\n",
       "    <tr>\n",
       "      <th>Quarter</th>\n",
       "      <td>7013508.0</td>\n",
       "      <td>2.516275</td>\n",
       "      <td>1.106200</td>\n",
       "      <td>1.0</td>\n",
       "      <td>2.0</td>\n",
       "      <td>3.0</td>\n",
       "      <td>3.0</td>\n",
       "      <td>4.0</td>\n",
       "    </tr>\n",
       "    <tr>\n",
       "      <th>Month</th>\n",
       "      <td>7013508.0</td>\n",
       "      <td>6.547852</td>\n",
       "      <td>3.406279</td>\n",
       "      <td>1.0</td>\n",
       "      <td>4.0</td>\n",
       "      <td>7.0</td>\n",
       "      <td>9.0</td>\n",
       "      <td>12.0</td>\n",
       "    </tr>\n",
       "    <tr>\n",
       "      <th>DayofMonth</th>\n",
       "      <td>7013508.0</td>\n",
       "      <td>15.733868</td>\n",
       "      <td>8.783559</td>\n",
       "      <td>1.0</td>\n",
       "      <td>8.0</td>\n",
       "      <td>16.0</td>\n",
       "      <td>23.0</td>\n",
       "      <td>31.0</td>\n",
       "    </tr>\n",
       "    <tr>\n",
       "      <th>DayOfWeek</th>\n",
       "      <td>7013508.0</td>\n",
       "      <td>3.982934</td>\n",
       "      <td>2.001696</td>\n",
       "      <td>1.0</td>\n",
       "      <td>2.0</td>\n",
       "      <td>4.0</td>\n",
       "      <td>6.0</td>\n",
       "      <td>7.0</td>\n",
       "    </tr>\n",
       "    <tr>\n",
       "      <th>DepDelay</th>\n",
       "      <td>6827656.0</td>\n",
       "      <td>12.482829</td>\n",
       "      <td>52.959936</td>\n",
       "      <td>-96.0</td>\n",
       "      <td>-5.0</td>\n",
       "      <td>-2.0</td>\n",
       "      <td>10.0</td>\n",
       "      <td>7223.0</td>\n",
       "    </tr>\n",
       "    <tr>\n",
       "      <th>ArrDelay</th>\n",
       "      <td>6806806.0</td>\n",
       "      <td>6.963227</td>\n",
       "      <td>54.795286</td>\n",
       "      <td>-100.0</td>\n",
       "      <td>-14.0</td>\n",
       "      <td>-5.0</td>\n",
       "      <td>10.0</td>\n",
       "      <td>7232.0</td>\n",
       "    </tr>\n",
       "    <tr>\n",
       "      <th>Cancelled</th>\n",
       "      <td>7013508.0</td>\n",
       "      <td>0.027096</td>\n",
       "      <td>0.162363</td>\n",
       "      <td>0.0</td>\n",
       "      <td>0.0</td>\n",
       "      <td>0.0</td>\n",
       "      <td>0.0</td>\n",
       "      <td>1.0</td>\n",
       "    </tr>\n",
       "    <tr>\n",
       "      <th>Diverted</th>\n",
       "      <td>7013508.0</td>\n",
       "      <td>0.002376</td>\n",
       "      <td>0.048685</td>\n",
       "      <td>0.0</td>\n",
       "      <td>0.0</td>\n",
       "      <td>0.0</td>\n",
       "      <td>0.0</td>\n",
       "      <td>1.0</td>\n",
       "    </tr>\n",
       "    <tr>\n",
       "      <th>AirTime</th>\n",
       "      <td>6806806.0</td>\n",
       "      <td>110.641050</td>\n",
       "      <td>69.827502</td>\n",
       "      <td>8.0</td>\n",
       "      <td>60.0</td>\n",
       "      <td>93.0</td>\n",
       "      <td>140.0</td>\n",
       "      <td>727.0</td>\n",
       "    </tr>\n",
       "    <tr>\n",
       "      <th>Distance</th>\n",
       "      <td>7013508.0</td>\n",
       "      <td>796.946448</td>\n",
       "      <td>591.806326</td>\n",
       "      <td>31.0</td>\n",
       "      <td>368.0</td>\n",
       "      <td>641.0</td>\n",
       "      <td>1032.0</td>\n",
       "      <td>5095.0</td>\n",
       "    </tr>\n",
       "    <tr>\n",
       "      <th>CarrierDelay</th>\n",
       "      <td>1426305.0</td>\n",
       "      <td>26.754551</td>\n",
       "      <td>75.188138</td>\n",
       "      <td>0.0</td>\n",
       "      <td>0.0</td>\n",
       "      <td>7.0</td>\n",
       "      <td>26.0</td>\n",
       "      <td>7232.0</td>\n",
       "    </tr>\n",
       "    <tr>\n",
       "      <th>WeatherDelay</th>\n",
       "      <td>1426305.0</td>\n",
       "      <td>3.823167</td>\n",
       "      <td>31.246710</td>\n",
       "      <td>0.0</td>\n",
       "      <td>0.0</td>\n",
       "      <td>0.0</td>\n",
       "      <td>0.0</td>\n",
       "      <td>2363.0</td>\n",
       "    </tr>\n",
       "    <tr>\n",
       "      <th>NASDelay</th>\n",
       "      <td>1426305.0</td>\n",
       "      <td>11.411250</td>\n",
       "      <td>28.980078</td>\n",
       "      <td>0.0</td>\n",
       "      <td>0.0</td>\n",
       "      <td>0.0</td>\n",
       "      <td>15.0</td>\n",
       "      <td>1740.0</td>\n",
       "    </tr>\n",
       "    <tr>\n",
       "      <th>SecurityDelay</th>\n",
       "      <td>1426305.0</td>\n",
       "      <td>0.138521</td>\n",
       "      <td>3.640329</td>\n",
       "      <td>0.0</td>\n",
       "      <td>0.0</td>\n",
       "      <td>0.0</td>\n",
       "      <td>0.0</td>\n",
       "      <td>1245.0</td>\n",
       "    </tr>\n",
       "    <tr>\n",
       "      <th>LateAircraftDelay</th>\n",
       "      <td>1426305.0</td>\n",
       "      <td>25.617200</td>\n",
       "      <td>56.309117</td>\n",
       "      <td>0.0</td>\n",
       "      <td>0.0</td>\n",
       "      <td>0.0</td>\n",
       "      <td>30.0</td>\n",
       "      <td>2302.0</td>\n",
       "    </tr>\n",
       "  </tbody>\n",
       "</table>\n",
       "</div>"
      ],
      "text/plain": [
       "                       count        mean         std    min    25%    50%  \\\n",
       "Quarter            7013508.0    2.516275    1.106200    1.0    2.0    3.0   \n",
       "Month              7013508.0    6.547852    3.406279    1.0    4.0    7.0   \n",
       "DayofMonth         7013508.0   15.733868    8.783559    1.0    8.0   16.0   \n",
       "DayOfWeek          7013508.0    3.982934    2.001696    1.0    2.0    4.0   \n",
       "DepDelay           6827656.0   12.482829   52.959936  -96.0   -5.0   -2.0   \n",
       "ArrDelay           6806806.0    6.963227   54.795286 -100.0  -14.0   -5.0   \n",
       "Cancelled          7013508.0    0.027096    0.162363    0.0    0.0    0.0   \n",
       "Diverted           7013508.0    0.002376    0.048685    0.0    0.0    0.0   \n",
       "AirTime            6806806.0  110.641050   69.827502    8.0   60.0   93.0   \n",
       "Distance           7013508.0  796.946448  591.806326   31.0  368.0  641.0   \n",
       "CarrierDelay       1426305.0   26.754551   75.188138    0.0    0.0    7.0   \n",
       "WeatherDelay       1426305.0    3.823167   31.246710    0.0    0.0    0.0   \n",
       "NASDelay           1426305.0   11.411250   28.980078    0.0    0.0    0.0   \n",
       "SecurityDelay      1426305.0    0.138521    3.640329    0.0    0.0    0.0   \n",
       "LateAircraftDelay  1426305.0   25.617200   56.309117    0.0    0.0    0.0   \n",
       "\n",
       "                      75%     max  \n",
       "Quarter               3.0     4.0  \n",
       "Month                 9.0    12.0  \n",
       "DayofMonth           23.0    31.0  \n",
       "DayOfWeek             6.0     7.0  \n",
       "DepDelay             10.0  7223.0  \n",
       "ArrDelay             10.0  7232.0  \n",
       "Cancelled             0.0     1.0  \n",
       "Diverted              0.0     1.0  \n",
       "AirTime             140.0   727.0  \n",
       "Distance           1032.0  5095.0  \n",
       "CarrierDelay         26.0  7232.0  \n",
       "WeatherDelay          0.0  2363.0  \n",
       "NASDelay             15.0  1740.0  \n",
       "SecurityDelay         0.0  1245.0  \n",
       "LateAircraftDelay    30.0  2302.0  "
      ]
     },
     "execution_count": 15,
     "metadata": {},
     "output_type": "execute_result"
    }
   ],
   "source": [
    "df.describe().T"
   ]
  },
  {
   "cell_type": "code",
   "execution_count": 16,
   "id": "445f143f-6e25-429a-9b9d-e924e07f1793",
   "metadata": {},
   "outputs": [
    {
     "name": "stderr",
     "output_type": "stream",
     "text": [
      "C:\\Users\\asus3\\AppData\\Local\\Temp\\ipykernel_12228\\3467595808.py:3: FutureWarning: The default value of numeric_only in DataFrame.corr is deprecated. In a future version, it will default to False. Select only valid columns or specify the value of numeric_only to silence this warning.\n",
      "  sns.heatmap(df.corr(), annot=True , linewidths = 0.2, cmap = 'Blues')\n"
     ]
    },
    {
     "data": {
      "text/plain": [
       "<Axes: title={'center': 'Correlation Matrix'}>"
      ]
     },
     "execution_count": 16,
     "metadata": {},
     "output_type": "execute_result"
    },
    {
     "data": {
      "image/png": "[encoded data removed]",
      "text/plain": [
       "<Figure size 1500x1000 with 2 Axes>"
      ]
     },
     "metadata": {},
     "output_type": "display_data"
    }
   ],
   "source": [
    "sns.set(rc={\"figure.figsize\":(15,10)})\n",
    "plt.title(\"Correlation Matrix\")\n",
    "sns.heatmap(df.corr(), annot=True , linewidths = 0.2, cmap = 'Blues')"
   ]
  },
  {
   "cell_type": "code",
   "execution_count": 17,
   "id": "532ce382-28b8-46bd-afe2-5d7bef1a6145",
   "metadata": {},
   "outputs": [
    {
     "name": "stdout",
     "output_type": "stream",
     "text": [
      "<class 'pandas.core.frame.DataFrame'>\n",
      "RangeIndex: 7013508 entries, 0 to 7013507\n",
      "Data columns (total 19 columns):\n",
      " #   Column             Dtype  \n",
      "---  ------             -----  \n",
      " 0   Quarter            int64  \n",
      " 1   Month              int64  \n",
      " 2   DayofMonth         int64  \n",
      " 3   DayOfWeek          int64  \n",
      " 4   FlightDate         object \n",
      " 5   Airlines           object \n",
      " 6   OriginCityName     object \n",
      " 7   DestCityName       object \n",
      " 8   DepDelay           float64\n",
      " 9   ArrDelay           float64\n",
      " 10  Cancelled          float64\n",
      " 11  Diverted           float64\n",
      " 12  AirTime            float64\n",
      " 13  Distance           float64\n",
      " 14  CarrierDelay       float64\n",
      " 15  WeatherDelay       float64\n",
      " 16  NASDelay           float64\n",
      " 17  SecurityDelay      float64\n",
      " 18  LateAircraftDelay  float64\n",
      "dtypes: float64(11), int64(4), object(4)\n",
      "memory usage: 1016.7+ MB\n"
     ]
    }
   ],
   "source": [
    "df.info()"
   ]
  },
  {
   "cell_type": "code",
   "execution_count": 18,
   "id": "a572ca1f-96b7-4f13-ac49-7ef422d772f1",
   "metadata": {},
   "outputs": [],
   "source": [
    "df['Airlines'] = df['Airlines'].astype('category')\n",
    "df['OriginCityName'] = df['OriginCityName'].astype('category')\n",
    "df['DestCityName'] = df['DestCityName'].astype('category')"
   ]
  },
  {
   "cell_type": "code",
   "execution_count": 19,
   "id": "536fcba2-9761-4dd4-8104-269a1a417c5e",
   "metadata": {},
   "outputs": [
    {
     "name": "stdout",
     "output_type": "stream",
     "text": [
      "<class 'pandas.core.frame.DataFrame'>\n",
      "RangeIndex: 7013508 entries, 0 to 7013507\n",
      "Data columns (total 19 columns):\n",
      " #   Column             Dtype   \n",
      "---  ------             -----   \n",
      " 0   Quarter            int64   \n",
      " 1   Month              int64   \n",
      " 2   DayofMonth         int64   \n",
      " 3   DayOfWeek          int64   \n",
      " 4   FlightDate         object  \n",
      " 5   Airlines           category\n",
      " 6   OriginCityName     category\n",
      " 7   DestCityName       category\n",
      " 8   DepDelay           float64 \n",
      " 9   ArrDelay           float64 \n",
      " 10  Cancelled          float64 \n",
      " 11  Diverted           float64 \n",
      " 12  AirTime            float64 \n",
      " 13  Distance           float64 \n",
      " 14  CarrierDelay       float64 \n",
      " 15  WeatherDelay       float64 \n",
      " 16  NASDelay           float64 \n",
      " 17  SecurityDelay      float64 \n",
      " 18  LateAircraftDelay  float64 \n",
      "dtypes: category(3), float64(11), int64(4), object(1)\n",
      "memory usage: 889.6+ MB\n"
     ]
    }
   ],
   "source": [
    "df.info()"
   ]
  },
  {
   "cell_type": "markdown",
   "id": "b523f21a-256d-41a4-954d-6c84ce673877",
   "metadata": {},
   "source": [
    "## Checking duplicated values in each column in the dataset."
   ]
  },
  {
   "cell_type": "code",
   "execution_count": 20,
   "id": "bc08853c-d36a-4680-951f-57884e77a80a",
   "metadata": {},
   "outputs": [
    {
     "data": {
      "text/plain": [
       "52095"
      ]
     },
     "execution_count": 20,
     "metadata": {},
     "output_type": "execute_result"
    }
   ],
   "source": [
    "df.duplicated().sum()    # checking duplicated values"
   ]
  },
  {
   "cell_type": "code",
   "execution_count": 21,
   "id": "8b773ad7-6b63-4563-9f1c-0e1dfd99f8f4",
   "metadata": {},
   "outputs": [],
   "source": [
    "df = df.drop_duplicates()"
   ]
  },
  {
   "cell_type": "code",
   "execution_count": 22,
   "id": "0d6e8cd9-d78a-4d91-97e6-15e6e69b1ce3",
   "metadata": {},
   "outputs": [
    {
     "data": {
      "text/plain": [
       "(6961413, 19)"
      ]
     },
     "execution_count": 22,
     "metadata": {},
     "output_type": "execute_result"
    }
   ],
   "source": [
    "df.shape"
   ]
  },
  {
   "cell_type": "markdown",
   "id": "666d3de4-1af5-433f-b2d0-6eae15d4135d",
   "metadata": {},
   "source": [
    "## Checking missing values in each column in the dataset."
   ]
  },
  {
   "cell_type": "code",
   "execution_count": 23,
   "id": "659ef626-79e9-4fde-8322-e52a9baf4fff",
   "metadata": {},
   "outputs": [
    {
     "data": {
      "text/plain": [
       "Quarter                    0\n",
       "Month                      0\n",
       "DayofMonth                 0\n",
       "DayOfWeek                  0\n",
       "FlightDate                 0\n",
       "Airlines                   0\n",
       "OriginCityName             0\n",
       "DestCityName               0\n",
       "DepDelay              136573\n",
       "ArrDelay              157407\n",
       "Cancelled                  0\n",
       "Diverted                   0\n",
       "AirTime               157407\n",
       "Distance                   0\n",
       "CarrierDelay         5535123\n",
       "WeatherDelay         5535123\n",
       "NASDelay             5535123\n",
       "SecurityDelay        5535123\n",
       "LateAircraftDelay    5535123\n",
       "dtype: int64"
      ]
     },
     "execution_count": 23,
     "metadata": {},
     "output_type": "execute_result"
    }
   ],
   "source": [
    "df.isnull().sum()  # Checking null values "
   ]
  },
  {
   "cell_type": "code",
   "execution_count": 24,
   "id": "47b7593d-5d4c-45e1-be39-3f3ce87f4c4a",
   "metadata": {},
   "outputs": [
    {
     "data": {
      "text/plain": [
       "Quarter               0.000000\n",
       "Month                 0.000000\n",
       "DayofMonth            0.000000\n",
       "DayOfWeek             0.000000\n",
       "FlightDate            0.000000\n",
       "Airlines              0.000000\n",
       "OriginCityName        0.000000\n",
       "DestCityName          0.000000\n",
       "DepDelay              1.961857\n",
       "ArrDelay              2.261136\n",
       "Cancelled             0.000000\n",
       "Diverted              0.000000\n",
       "AirTime               2.261136\n",
       "Distance              0.000000\n",
       "CarrierDelay         79.511487\n",
       "WeatherDelay         79.511487\n",
       "NASDelay             79.511487\n",
       "SecurityDelay        79.511487\n",
       "LateAircraftDelay    79.511487\n",
       "dtype: float64"
      ]
     },
     "execution_count": 24,
     "metadata": {},
     "output_type": "execute_result"
    }
   ],
   "source": [
    "df.isnull().sum() * 100 / len(df)   # Checking percentage of  null values "
   ]
  },
  {
   "cell_type": "code",
   "execution_count": 25,
   "id": "23d4cb32-f539-40b8-a037-ca9628c2cd27",
   "metadata": {},
   "outputs": [],
   "source": [
    "## Dealing with missing values in each column in the dataset."
   ]
  },
  {
   "cell_type": "code",
   "execution_count": 26,
   "id": "1d7162f3-2c6f-453c-918a-87d4d5348e22",
   "metadata": {},
   "outputs": [
    {
     "data": {
      "text/plain": [
       "-5.0       507445\n",
       "-4.0       480367\n",
       "-3.0       468243\n",
       "-2.0       426967\n",
       "-6.0       395489\n",
       "            ...  \n",
       " 1597.0         1\n",
       " 1681.0         1\n",
       " 2994.0         1\n",
       " 1622.0         1\n",
       " 1584.0         1\n",
       "Name: DepDelay, Length: 1766, dtype: int64"
      ]
     },
     "execution_count": 26,
     "metadata": {},
     "output_type": "execute_result"
    }
   ],
   "source": [
    "df.DepDelay.value_counts()"
   ]
  },
  {
   "cell_type": "code",
   "execution_count": 27,
   "id": "66dbfb51-43dc-4037-ae5b-8097c4bc6731",
   "metadata": {},
   "outputs": [
    {
     "data": {
      "text/plain": [
       "array([  nan,   -4.,   -2., ..., 1395., 1338., 1584.])"
      ]
     },
     "execution_count": 27,
     "metadata": {},
     "output_type": "execute_result"
    }
   ],
   "source": [
    "df.DepDelay.unique()"
   ]
  },
  {
   "cell_type": "code",
   "execution_count": 28,
   "id": "9a86cedf-9c90-41b5-b18a-2e7517441d92",
   "metadata": {},
   "outputs": [
    {
     "data": {
      "text/plain": [
       "array([       nan, -1.000e+00, -1.200e+01, ...,  1.319e+03,  1.361e+03,\n",
       "        1.429e+03])"
      ]
     },
     "execution_count": 28,
     "metadata": {},
     "output_type": "execute_result"
    }
   ],
   "source": [
    "df.ArrDelay.unique()"
   ]
  },
  {
   "cell_type": "code",
   "execution_count": 29,
   "id": "9722dc72-d44b-4d53-aaf5-db0ec183c4e7",
   "metadata": {},
   "outputs": [
    {
     "data": {
      "text/plain": [
       "-10.0      194587\n",
       "-11.0      193787\n",
       "-12.0      193033\n",
       "-9.0       191504\n",
       "-13.0      189798\n",
       "            ...  \n",
       " 1781.0         1\n",
       " 1628.0         1\n",
       " 1413.0         1\n",
       " 1496.0         1\n",
       " 1429.0         1\n",
       "Name: ArrDelay, Length: 1779, dtype: int64"
      ]
     },
     "execution_count": 29,
     "metadata": {},
     "output_type": "execute_result"
    }
   ],
   "source": [
    "df.ArrDelay.value_counts()"
   ]
  },
  {
   "cell_type": "code",
   "execution_count": 30,
   "id": "93099068-f835-4528-be8e-3fdcdf851a09",
   "metadata": {},
   "outputs": [
    {
     "data": {
      "text/plain": [
       "array([ -96.,  -93.,  -92., ..., 5995., 7223.,   nan])"
      ]
     },
     "execution_count": 30,
     "metadata": {},
     "output_type": "execute_result"
    }
   ],
   "source": [
    "df[\"DepDelay\"].sort_values().unique()"
   ]
  },
  {
   "cell_type": "code",
   "execution_count": 31,
   "id": "8af097fa-3178-4e5e-8185-3090c045436e",
   "metadata": {},
   "outputs": [
    {
     "data": {
      "text/plain": [
       "array([-100.,  -99.,  -96., ..., 5986., 7232.,   nan])"
      ]
     },
     "execution_count": 31,
     "metadata": {},
     "output_type": "execute_result"
    }
   ],
   "source": [
    "df[\"ArrDelay\"].sort_values().unique()"
   ]
  },
  {
   "cell_type": "markdown",
   "id": "f074984a-8f10-4e54-91c6-2a1ed58a9481",
   "metadata": {},
   "source": [
    "A canceled flight is not a delayed flight as it never left nor arrived to its destination for whatever reason."
   ]
  },
  {
   "cell_type": "code",
   "execution_count": 32,
   "id": "a55d7a36-3259-4fb1-9e59-6a2ec2d7d6b4",
   "metadata": {},
   "outputs": [
    {
     "data": {
      "text/plain": [
       "2"
      ]
     },
     "execution_count": 32,
     "metadata": {},
     "output_type": "execute_result"
    }
   ],
   "source": [
    "df.Cancelled.nunique()"
   ]
  },
  {
   "cell_type": "code",
   "execution_count": 33,
   "id": "f667d500-b21d-4878-b650-705a146b9820",
   "metadata": {},
   "outputs": [
    {
     "data": {
      "text/plain": [
       "0.0    6820654\n",
       "1.0     140759\n",
       "Name: Cancelled, dtype: int64"
      ]
     },
     "execution_count": 33,
     "metadata": {},
     "output_type": "execute_result"
    }
   ],
   "source": [
    "df.Cancelled.value_counts()"
   ]
  },
  {
   "cell_type": "markdown",
   "id": "13f25a1f-5d7e-4df3-bd4d-3603d875e68b",
   "metadata": {},
   "source": [
    "This is a binary column where number 1 equals a canceled flight, and a 0 not canceled, therefore we can drop the flights that were canceled, equivalent to 140759."
   ]
  },
  {
   "cell_type": "code",
   "execution_count": 34,
   "id": "b4f2cd25-9963-4531-8fca-62fb899488b1",
   "metadata": {},
   "outputs": [
    {
     "name": "stdout",
     "output_type": "stream",
     "text": [
      "dummy shape: (140759, 19)\n",
      "====================================\n",
      "dummy dataframe:\n"
     ]
    },
    {
     "data": {
      "text/html": [
       "<div>\n",
       "<style scoped>\n",
       "    .dataframe tbody tr th:only-of-type {\n",
       "        vertical-align: middle;\n",
       "    }\n",
       "\n",
       "    .dataframe tbody tr th {\n",
       "        vertical-align: top;\n",
       "    }\n",
       "\n",
       "    .dataframe thead th {\n",
       "        text-align: right;\n",
       "    }\n",
       "</style>\n",
       "<table border=\"1\" class=\"dataframe\">\n",
       "  <thead>\n",
       "    <tr style=\"text-align: right;\">\n",
       "      <th></th>\n",
       "      <th>Quarter</th>\n",
       "      <th>Month</th>\n",
       "      <th>DayofMonth</th>\n",
       "      <th>DayOfWeek</th>\n",
       "      <th>FlightDate</th>\n",
       "      <th>Airlines</th>\n",
       "      <th>OriginCityName</th>\n",
       "      <th>DestCityName</th>\n",
       "      <th>DepDelay</th>\n",
       "      <th>ArrDelay</th>\n",
       "      <th>Cancelled</th>\n",
       "      <th>Diverted</th>\n",
       "      <th>AirTime</th>\n",
       "      <th>Distance</th>\n",
       "      <th>CarrierDelay</th>\n",
       "      <th>WeatherDelay</th>\n",
       "      <th>NASDelay</th>\n",
       "      <th>SecurityDelay</th>\n",
       "      <th>LateAircraftDelay</th>\n",
       "    </tr>\n",
       "  </thead>\n",
       "  <tbody>\n",
       "    <tr>\n",
       "      <th>0</th>\n",
       "      <td>1</td>\n",
       "      <td>1</td>\n",
       "      <td>6</td>\n",
       "      <td>4</td>\n",
       "      <td>2022-01-06</td>\n",
       "      <td>Delta Airlines</td>\n",
       "      <td>Fort Lauderdale, FL</td>\n",
       "      <td>New York, NY</td>\n",
       "      <td>NaN</td>\n",
       "      <td>NaN</td>\n",
       "      <td>1.0</td>\n",
       "      <td>0.0</td>\n",
       "      <td>NaN</td>\n",
       "      <td>1076.0</td>\n",
       "      <td>NaN</td>\n",
       "      <td>NaN</td>\n",
       "      <td>NaN</td>\n",
       "      <td>NaN</td>\n",
       "      <td>NaN</td>\n",
       "    </tr>\n",
       "    <tr>\n",
       "      <th>30</th>\n",
       "      <td>1</td>\n",
       "      <td>1</td>\n",
       "      <td>6</td>\n",
       "      <td>4</td>\n",
       "      <td>2022-01-06</td>\n",
       "      <td>Delta Airlines</td>\n",
       "      <td>Detroit, MI</td>\n",
       "      <td>Nashville, TN</td>\n",
       "      <td>NaN</td>\n",
       "      <td>NaN</td>\n",
       "      <td>1.0</td>\n",
       "      <td>0.0</td>\n",
       "      <td>NaN</td>\n",
       "      <td>456.0</td>\n",
       "      <td>NaN</td>\n",
       "      <td>NaN</td>\n",
       "      <td>NaN</td>\n",
       "      <td>NaN</td>\n",
       "      <td>NaN</td>\n",
       "    </tr>\n",
       "    <tr>\n",
       "      <th>75</th>\n",
       "      <td>1</td>\n",
       "      <td>1</td>\n",
       "      <td>6</td>\n",
       "      <td>4</td>\n",
       "      <td>2022-01-06</td>\n",
       "      <td>Delta Airlines</td>\n",
       "      <td>Cincinnati, OH</td>\n",
       "      <td>Boston, MA</td>\n",
       "      <td>NaN</td>\n",
       "      <td>NaN</td>\n",
       "      <td>1.0</td>\n",
       "      <td>0.0</td>\n",
       "      <td>NaN</td>\n",
       "      <td>752.0</td>\n",
       "      <td>NaN</td>\n",
       "      <td>NaN</td>\n",
       "      <td>NaN</td>\n",
       "      <td>NaN</td>\n",
       "      <td>NaN</td>\n",
       "    </tr>\n",
       "    <tr>\n",
       "      <th>148</th>\n",
       "      <td>1</td>\n",
       "      <td>1</td>\n",
       "      <td>6</td>\n",
       "      <td>4</td>\n",
       "      <td>2022-01-06</td>\n",
       "      <td>Delta Airlines</td>\n",
       "      <td>Miami, FL</td>\n",
       "      <td>New York, NY</td>\n",
       "      <td>NaN</td>\n",
       "      <td>NaN</td>\n",
       "      <td>1.0</td>\n",
       "      <td>0.0</td>\n",
       "      <td>NaN</td>\n",
       "      <td>1096.0</td>\n",
       "      <td>NaN</td>\n",
       "      <td>NaN</td>\n",
       "      <td>NaN</td>\n",
       "      <td>NaN</td>\n",
       "      <td>NaN</td>\n",
       "    </tr>\n",
       "    <tr>\n",
       "      <th>157</th>\n",
       "      <td>1</td>\n",
       "      <td>1</td>\n",
       "      <td>6</td>\n",
       "      <td>4</td>\n",
       "      <td>2022-01-06</td>\n",
       "      <td>Delta Airlines</td>\n",
       "      <td>Atlanta, GA</td>\n",
       "      <td>Nashville, TN</td>\n",
       "      <td>NaN</td>\n",
       "      <td>NaN</td>\n",
       "      <td>1.0</td>\n",
       "      <td>0.0</td>\n",
       "      <td>NaN</td>\n",
       "      <td>214.0</td>\n",
       "      <td>NaN</td>\n",
       "      <td>NaN</td>\n",
       "      <td>NaN</td>\n",
       "      <td>NaN</td>\n",
       "      <td>NaN</td>\n",
       "    </tr>\n",
       "  </tbody>\n",
       "</table>\n",
       "</div>"
      ],
      "text/plain": [
       "     Quarter  Month  DayofMonth  DayOfWeek  FlightDate        Airlines  \\\n",
       "0          1      1           6          4  2022-01-06  Delta Airlines   \n",
       "30         1      1           6          4  2022-01-06  Delta Airlines   \n",
       "75         1      1           6          4  2022-01-06  Delta Airlines   \n",
       "148        1      1           6          4  2022-01-06  Delta Airlines   \n",
       "157        1      1           6          4  2022-01-06  Delta Airlines   \n",
       "\n",
       "          OriginCityName   DestCityName  DepDelay  ArrDelay  Cancelled  \\\n",
       "0    Fort Lauderdale, FL   New York, NY       NaN       NaN        1.0   \n",
       "30           Detroit, MI  Nashville, TN       NaN       NaN        1.0   \n",
       "75        Cincinnati, OH     Boston, MA       NaN       NaN        1.0   \n",
       "148            Miami, FL   New York, NY       NaN       NaN        1.0   \n",
       "157          Atlanta, GA  Nashville, TN       NaN       NaN        1.0   \n",
       "\n",
       "     Diverted  AirTime  Distance  CarrierDelay  WeatherDelay  NASDelay  \\\n",
       "0         0.0      NaN    1076.0           NaN           NaN       NaN   \n",
       "30        0.0      NaN     456.0           NaN           NaN       NaN   \n",
       "75        0.0      NaN     752.0           NaN           NaN       NaN   \n",
       "148       0.0      NaN    1096.0           NaN           NaN       NaN   \n",
       "157       0.0      NaN     214.0           NaN           NaN       NaN   \n",
       "\n",
       "     SecurityDelay  LateAircraftDelay  \n",
       "0              NaN                NaN  \n",
       "30             NaN                NaN  \n",
       "75             NaN                NaN  \n",
       "148            NaN                NaN  \n",
       "157            NaN                NaN  "
      ]
     },
     "execution_count": 34,
     "metadata": {},
     "output_type": "execute_result"
    }
   ],
   "source": [
    "dummy = df[(df['Cancelled'] == 1)]\n",
    "print('dummy shape:', dummy.shape)\n",
    "print('====================================')\n",
    "print('dummy dataframe:')\n",
    "dummy.head()"
   ]
  },
  {
   "cell_type": "code",
   "execution_count": 35,
   "id": "124505d6-0a1d-4bd8-b7d6-ec742aabffb9",
   "metadata": {},
   "outputs": [
    {
     "data": {
      "text/plain": [
       "1"
      ]
     },
     "execution_count": 35,
     "metadata": {},
     "output_type": "execute_result"
    }
   ],
   "source": [
    "dummy.Cancelled.nunique()"
   ]
  },
  {
   "cell_type": "code",
   "execution_count": 36,
   "id": "e954cf53-5595-43da-9a8c-381dbe7771fe",
   "metadata": {},
   "outputs": [
    {
     "data": {
      "text/plain": [
       "1.0    140759\n",
       "Name: Cancelled, dtype: int64"
      ]
     },
     "execution_count": 36,
     "metadata": {},
     "output_type": "execute_result"
    }
   ],
   "source": [
    "dummy.Cancelled.value_counts()"
   ]
  },
  {
   "cell_type": "code",
   "execution_count": 37,
   "id": "284f1c85-f1be-471e-82ee-1df181cb0e92",
   "metadata": {},
   "outputs": [
    {
     "data": {
      "text/html": [
       "<div>\n",
       "<style scoped>\n",
       "    .dataframe tbody tr th:only-of-type {\n",
       "        vertical-align: middle;\n",
       "    }\n",
       "\n",
       "    .dataframe tbody tr th {\n",
       "        vertical-align: top;\n",
       "    }\n",
       "\n",
       "    .dataframe thead th {\n",
       "        text-align: right;\n",
       "    }\n",
       "</style>\n",
       "<table border=\"1\" class=\"dataframe\">\n",
       "  <thead>\n",
       "    <tr style=\"text-align: right;\">\n",
       "      <th></th>\n",
       "      <th>Quarter</th>\n",
       "      <th>Month</th>\n",
       "      <th>DayofMonth</th>\n",
       "      <th>DayOfWeek</th>\n",
       "      <th>FlightDate</th>\n",
       "      <th>Airlines</th>\n",
       "      <th>OriginCityName</th>\n",
       "      <th>DestCityName</th>\n",
       "      <th>DepDelay</th>\n",
       "      <th>ArrDelay</th>\n",
       "      <th>Cancelled</th>\n",
       "      <th>Diverted</th>\n",
       "      <th>AirTime</th>\n",
       "      <th>Distance</th>\n",
       "      <th>CarrierDelay</th>\n",
       "      <th>WeatherDelay</th>\n",
       "      <th>NASDelay</th>\n",
       "      <th>SecurityDelay</th>\n",
       "      <th>LateAircraftDelay</th>\n",
       "    </tr>\n",
       "  </thead>\n",
       "  <tbody>\n",
       "    <tr>\n",
       "      <th>1</th>\n",
       "      <td>1</td>\n",
       "      <td>1</td>\n",
       "      <td>6</td>\n",
       "      <td>4</td>\n",
       "      <td>2022-01-06</td>\n",
       "      <td>Delta Airlines</td>\n",
       "      <td>Atlanta, GA</td>\n",
       "      <td>Fort Lauderdale, FL</td>\n",
       "      <td>-4.0</td>\n",
       "      <td>-1.0</td>\n",
       "      <td>0.0</td>\n",
       "      <td>0.0</td>\n",
       "      <td>93.0</td>\n",
       "      <td>581.0</td>\n",
       "      <td>NaN</td>\n",
       "      <td>NaN</td>\n",
       "      <td>NaN</td>\n",
       "      <td>NaN</td>\n",
       "      <td>NaN</td>\n",
       "    </tr>\n",
       "    <tr>\n",
       "      <th>2</th>\n",
       "      <td>1</td>\n",
       "      <td>1</td>\n",
       "      <td>6</td>\n",
       "      <td>4</td>\n",
       "      <td>2022-01-06</td>\n",
       "      <td>Delta Airlines</td>\n",
       "      <td>Fort Lauderdale, FL</td>\n",
       "      <td>Atlanta, GA</td>\n",
       "      <td>-2.0</td>\n",
       "      <td>-12.0</td>\n",
       "      <td>0.0</td>\n",
       "      <td>0.0</td>\n",
       "      <td>83.0</td>\n",
       "      <td>581.0</td>\n",
       "      <td>NaN</td>\n",
       "      <td>NaN</td>\n",
       "      <td>NaN</td>\n",
       "      <td>NaN</td>\n",
       "      <td>NaN</td>\n",
       "    </tr>\n",
       "  </tbody>\n",
       "</table>\n",
       "</div>"
      ],
      "text/plain": [
       "   Quarter  Month  DayofMonth  DayOfWeek  FlightDate        Airlines  \\\n",
       "1        1      1           6          4  2022-01-06  Delta Airlines   \n",
       "2        1      1           6          4  2022-01-06  Delta Airlines   \n",
       "\n",
       "        OriginCityName         DestCityName  DepDelay  ArrDelay  Cancelled  \\\n",
       "1          Atlanta, GA  Fort Lauderdale, FL      -4.0      -1.0        0.0   \n",
       "2  Fort Lauderdale, FL          Atlanta, GA      -2.0     -12.0        0.0   \n",
       "\n",
       "   Diverted  AirTime  Distance  CarrierDelay  WeatherDelay  NASDelay  \\\n",
       "1       0.0     93.0     581.0           NaN           NaN       NaN   \n",
       "2       0.0     83.0     581.0           NaN           NaN       NaN   \n",
       "\n",
       "   SecurityDelay  LateAircraftDelay  \n",
       "1            NaN                NaN  \n",
       "2            NaN                NaN  "
      ]
     },
     "execution_count": 37,
     "metadata": {},
     "output_type": "execute_result"
    }
   ],
   "source": [
    "df = df[(df['Cancelled'] == 0)]\n",
    "df.head(2)"
   ]
  },
  {
   "cell_type": "code",
   "execution_count": 38,
   "id": "44a9a972-f87c-4455-b8ea-0db9953b08ea",
   "metadata": {},
   "outputs": [],
   "source": [
    "df = df.drop(['Cancelled'], axis = 1) "
   ]
  },
  {
   "cell_type": "code",
   "execution_count": 39,
   "id": "17c280f5-3cc3-4270-94ed-5c58fc0b79a0",
   "metadata": {},
   "outputs": [
    {
     "data": {
      "text/plain": [
       "(6820654, 18)"
      ]
     },
     "execution_count": 39,
     "metadata": {},
     "output_type": "execute_result"
    }
   ],
   "source": [
    "df.shape"
   ]
  },
  {
   "cell_type": "code",
   "execution_count": 40,
   "id": "7795b8f8-7acf-410a-8d99-6e4d1cd5e696",
   "metadata": {},
   "outputs": [
    {
     "data": {
      "text/plain": [
       "2"
      ]
     },
     "execution_count": 40,
     "metadata": {},
     "output_type": "execute_result"
    }
   ],
   "source": [
    "df.Diverted.nunique()"
   ]
  },
  {
   "cell_type": "code",
   "execution_count": 41,
   "id": "21010c95-5e1a-420a-ad61-ab2e653dd663",
   "metadata": {},
   "outputs": [
    {
     "data": {
      "text/plain": [
       "0.0    6804007\n",
       "1.0      16647\n",
       "Name: Diverted, dtype: int64"
      ]
     },
     "execution_count": 41,
     "metadata": {},
     "output_type": "execute_result"
    }
   ],
   "source": [
    "df.Diverted.value_counts()"
   ]
  },
  {
   "cell_type": "markdown",
   "id": "330f5bf3-c2e6-4028-af32-e07a168334d5",
   "metadata": {},
   "source": [
    "I will create a separate dataframe with only the columns where Diverted is 1. "
   ]
  },
  {
   "cell_type": "code",
   "execution_count": 42,
   "id": "f61b3a18-fdcf-42d9-88a3-bf7a0ba6c524",
   "metadata": {},
   "outputs": [],
   "source": [
    "Diverted_1 = df['Diverted']==1"
   ]
  },
  {
   "cell_type": "code",
   "execution_count": 43,
   "id": "f9593de6-2f9c-4d63-8f65-f87bcbd7edb1",
   "metadata": {},
   "outputs": [
    {
     "name": "stdout",
     "output_type": "stream",
     "text": [
      "(16647, 18)\n"
     ]
    }
   ],
   "source": [
    "df_DIV = df[Diverted_1]\n",
    "print(df_DIV.shape)"
   ]
  },
  {
   "cell_type": "code",
   "execution_count": 44,
   "id": "8945030c-0239-4278-868e-c87bd66d2af1",
   "metadata": {
    "tags": []
   },
   "outputs": [
    {
     "data": {
      "text/html": [
       "<div>\n",
       "<style scoped>\n",
       "    .dataframe tbody tr th:only-of-type {\n",
       "        vertical-align: middle;\n",
       "    }\n",
       "\n",
       "    .dataframe tbody tr th {\n",
       "        vertical-align: top;\n",
       "    }\n",
       "\n",
       "    .dataframe thead th {\n",
       "        text-align: right;\n",
       "    }\n",
       "</style>\n",
       "<table border=\"1\" class=\"dataframe\">\n",
       "  <thead>\n",
       "    <tr style=\"text-align: right;\">\n",
       "      <th></th>\n",
       "      <th>Quarter</th>\n",
       "      <th>Month</th>\n",
       "      <th>DayofMonth</th>\n",
       "      <th>DayOfWeek</th>\n",
       "      <th>FlightDate</th>\n",
       "      <th>Airlines</th>\n",
       "      <th>OriginCityName</th>\n",
       "      <th>DestCityName</th>\n",
       "      <th>DepDelay</th>\n",
       "      <th>ArrDelay</th>\n",
       "      <th>Diverted</th>\n",
       "      <th>AirTime</th>\n",
       "      <th>Distance</th>\n",
       "      <th>CarrierDelay</th>\n",
       "      <th>WeatherDelay</th>\n",
       "      <th>NASDelay</th>\n",
       "      <th>SecurityDelay</th>\n",
       "      <th>LateAircraftDelay</th>\n",
       "    </tr>\n",
       "  </thead>\n",
       "  <tbody>\n",
       "    <tr>\n",
       "      <th>53</th>\n",
       "      <td>1</td>\n",
       "      <td>1</td>\n",
       "      <td>6</td>\n",
       "      <td>4</td>\n",
       "      <td>2022-01-06</td>\n",
       "      <td>Delta Airlines</td>\n",
       "      <td>Atlanta, GA</td>\n",
       "      <td>Norfolk, VA</td>\n",
       "      <td>-2.0</td>\n",
       "      <td>NaN</td>\n",
       "      <td>1.0</td>\n",
       "      <td>NaN</td>\n",
       "      <td>516.0</td>\n",
       "      <td>NaN</td>\n",
       "      <td>NaN</td>\n",
       "      <td>NaN</td>\n",
       "      <td>NaN</td>\n",
       "      <td>NaN</td>\n",
       "    </tr>\n",
       "    <tr>\n",
       "      <th>106</th>\n",
       "      <td>1</td>\n",
       "      <td>1</td>\n",
       "      <td>6</td>\n",
       "      <td>4</td>\n",
       "      <td>2022-01-06</td>\n",
       "      <td>Delta Airlines</td>\n",
       "      <td>Washington, DC</td>\n",
       "      <td>Seattle, WA</td>\n",
       "      <td>-1.0</td>\n",
       "      <td>NaN</td>\n",
       "      <td>1.0</td>\n",
       "      <td>NaN</td>\n",
       "      <td>2306.0</td>\n",
       "      <td>NaN</td>\n",
       "      <td>NaN</td>\n",
       "      <td>NaN</td>\n",
       "      <td>NaN</td>\n",
       "      <td>NaN</td>\n",
       "    </tr>\n",
       "    <tr>\n",
       "      <th>1885</th>\n",
       "      <td>1</td>\n",
       "      <td>1</td>\n",
       "      <td>7</td>\n",
       "      <td>5</td>\n",
       "      <td>2022-01-07</td>\n",
       "      <td>Delta Airlines</td>\n",
       "      <td>Salt Lake City, UT</td>\n",
       "      <td>Kahului, HI</td>\n",
       "      <td>9.0</td>\n",
       "      <td>NaN</td>\n",
       "      <td>1.0</td>\n",
       "      <td>NaN</td>\n",
       "      <td>2935.0</td>\n",
       "      <td>NaN</td>\n",
       "      <td>NaN</td>\n",
       "      <td>NaN</td>\n",
       "      <td>NaN</td>\n",
       "      <td>NaN</td>\n",
       "    </tr>\n",
       "    <tr>\n",
       "      <th>3515</th>\n",
       "      <td>1</td>\n",
       "      <td>1</td>\n",
       "      <td>8</td>\n",
       "      <td>6</td>\n",
       "      <td>2022-01-08</td>\n",
       "      <td>Delta Airlines</td>\n",
       "      <td>Atlanta, GA</td>\n",
       "      <td>Las Vegas, NV</td>\n",
       "      <td>30.0</td>\n",
       "      <td>NaN</td>\n",
       "      <td>1.0</td>\n",
       "      <td>NaN</td>\n",
       "      <td>1747.0</td>\n",
       "      <td>NaN</td>\n",
       "      <td>NaN</td>\n",
       "      <td>NaN</td>\n",
       "      <td>NaN</td>\n",
       "      <td>NaN</td>\n",
       "    </tr>\n",
       "    <tr>\n",
       "      <th>3808</th>\n",
       "      <td>1</td>\n",
       "      <td>1</td>\n",
       "      <td>8</td>\n",
       "      <td>6</td>\n",
       "      <td>2022-01-08</td>\n",
       "      <td>Delta Airlines</td>\n",
       "      <td>Detroit, MI</td>\n",
       "      <td>Las Vegas, NV</td>\n",
       "      <td>-6.0</td>\n",
       "      <td>NaN</td>\n",
       "      <td>1.0</td>\n",
       "      <td>NaN</td>\n",
       "      <td>1749.0</td>\n",
       "      <td>NaN</td>\n",
       "      <td>NaN</td>\n",
       "      <td>NaN</td>\n",
       "      <td>NaN</td>\n",
       "      <td>NaN</td>\n",
       "    </tr>\n",
       "    <tr>\n",
       "      <th>4488</th>\n",
       "      <td>1</td>\n",
       "      <td>1</td>\n",
       "      <td>15</td>\n",
       "      <td>6</td>\n",
       "      <td>2022-01-15</td>\n",
       "      <td>Delta Airlines</td>\n",
       "      <td>San Diego, CA</td>\n",
       "      <td>Seattle, WA</td>\n",
       "      <td>-3.0</td>\n",
       "      <td>NaN</td>\n",
       "      <td>1.0</td>\n",
       "      <td>NaN</td>\n",
       "      <td>1050.0</td>\n",
       "      <td>NaN</td>\n",
       "      <td>NaN</td>\n",
       "      <td>NaN</td>\n",
       "      <td>NaN</td>\n",
       "      <td>NaN</td>\n",
       "    </tr>\n",
       "    <tr>\n",
       "      <th>5655</th>\n",
       "      <td>1</td>\n",
       "      <td>1</td>\n",
       "      <td>16</td>\n",
       "      <td>7</td>\n",
       "      <td>2022-01-16</td>\n",
       "      <td>Delta Airlines</td>\n",
       "      <td>Washington, DC</td>\n",
       "      <td>Atlanta, GA</td>\n",
       "      <td>-4.0</td>\n",
       "      <td>NaN</td>\n",
       "      <td>1.0</td>\n",
       "      <td>NaN</td>\n",
       "      <td>547.0</td>\n",
       "      <td>NaN</td>\n",
       "      <td>NaN</td>\n",
       "      <td>NaN</td>\n",
       "      <td>NaN</td>\n",
       "      <td>NaN</td>\n",
       "    </tr>\n",
       "    <tr>\n",
       "      <th>5778</th>\n",
       "      <td>1</td>\n",
       "      <td>1</td>\n",
       "      <td>16</td>\n",
       "      <td>7</td>\n",
       "      <td>2022-01-16</td>\n",
       "      <td>Delta Airlines</td>\n",
       "      <td>Las Vegas, NV</td>\n",
       "      <td>New York, NY</td>\n",
       "      <td>-2.0</td>\n",
       "      <td>NaN</td>\n",
       "      <td>1.0</td>\n",
       "      <td>NaN</td>\n",
       "      <td>2248.0</td>\n",
       "      <td>NaN</td>\n",
       "      <td>NaN</td>\n",
       "      <td>NaN</td>\n",
       "      <td>NaN</td>\n",
       "      <td>NaN</td>\n",
       "    </tr>\n",
       "    <tr>\n",
       "      <th>5901</th>\n",
       "      <td>1</td>\n",
       "      <td>1</td>\n",
       "      <td>16</td>\n",
       "      <td>7</td>\n",
       "      <td>2022-01-16</td>\n",
       "      <td>Delta Airlines</td>\n",
       "      <td>Atlanta, GA</td>\n",
       "      <td>Norfolk, VA</td>\n",
       "      <td>0.0</td>\n",
       "      <td>NaN</td>\n",
       "      <td>1.0</td>\n",
       "      <td>NaN</td>\n",
       "      <td>516.0</td>\n",
       "      <td>NaN</td>\n",
       "      <td>NaN</td>\n",
       "      <td>NaN</td>\n",
       "      <td>NaN</td>\n",
       "      <td>NaN</td>\n",
       "    </tr>\n",
       "    <tr>\n",
       "      <th>6922</th>\n",
       "      <td>1</td>\n",
       "      <td>1</td>\n",
       "      <td>16</td>\n",
       "      <td>7</td>\n",
       "      <td>2022-01-16</td>\n",
       "      <td>Delta Airlines</td>\n",
       "      <td>Atlanta, GA</td>\n",
       "      <td>Harrisburg, PA</td>\n",
       "      <td>-4.0</td>\n",
       "      <td>NaN</td>\n",
       "      <td>1.0</td>\n",
       "      <td>NaN</td>\n",
       "      <td>620.0</td>\n",
       "      <td>NaN</td>\n",
       "      <td>NaN</td>\n",
       "      <td>NaN</td>\n",
       "      <td>NaN</td>\n",
       "      <td>NaN</td>\n",
       "    </tr>\n",
       "    <tr>\n",
       "      <th>6954</th>\n",
       "      <td>1</td>\n",
       "      <td>1</td>\n",
       "      <td>16</td>\n",
       "      <td>7</td>\n",
       "      <td>2022-01-16</td>\n",
       "      <td>Delta Airlines</td>\n",
       "      <td>Atlanta, GA</td>\n",
       "      <td>Myrtle Beach, SC</td>\n",
       "      <td>9.0</td>\n",
       "      <td>NaN</td>\n",
       "      <td>1.0</td>\n",
       "      <td>NaN</td>\n",
       "      <td>317.0</td>\n",
       "      <td>NaN</td>\n",
       "      <td>NaN</td>\n",
       "      <td>NaN</td>\n",
       "      <td>NaN</td>\n",
       "      <td>NaN</td>\n",
       "    </tr>\n",
       "    <tr>\n",
       "      <th>8036</th>\n",
       "      <td>1</td>\n",
       "      <td>1</td>\n",
       "      <td>17</td>\n",
       "      <td>1</td>\n",
       "      <td>2022-01-17</td>\n",
       "      <td>Delta Airlines</td>\n",
       "      <td>Detroit, MI</td>\n",
       "      <td>Portland, OR</td>\n",
       "      <td>19.0</td>\n",
       "      <td>NaN</td>\n",
       "      <td>1.0</td>\n",
       "      <td>NaN</td>\n",
       "      <td>1953.0</td>\n",
       "      <td>NaN</td>\n",
       "      <td>NaN</td>\n",
       "      <td>NaN</td>\n",
       "      <td>NaN</td>\n",
       "      <td>NaN</td>\n",
       "    </tr>\n",
       "    <tr>\n",
       "      <th>10336</th>\n",
       "      <td>1</td>\n",
       "      <td>1</td>\n",
       "      <td>18</td>\n",
       "      <td>2</td>\n",
       "      <td>2022-01-18</td>\n",
       "      <td>Delta Airlines</td>\n",
       "      <td>Atlanta, GA</td>\n",
       "      <td>New York, NY</td>\n",
       "      <td>144.0</td>\n",
       "      <td>NaN</td>\n",
       "      <td>1.0</td>\n",
       "      <td>NaN</td>\n",
       "      <td>760.0</td>\n",
       "      <td>NaN</td>\n",
       "      <td>NaN</td>\n",
       "      <td>NaN</td>\n",
       "      <td>NaN</td>\n",
       "      <td>NaN</td>\n",
       "    </tr>\n",
       "    <tr>\n",
       "      <th>12404</th>\n",
       "      <td>1</td>\n",
       "      <td>1</td>\n",
       "      <td>29</td>\n",
       "      <td>6</td>\n",
       "      <td>2022-01-29</td>\n",
       "      <td>Delta Airlines</td>\n",
       "      <td>Atlanta, GA</td>\n",
       "      <td>Key West, FL</td>\n",
       "      <td>-3.0</td>\n",
       "      <td>NaN</td>\n",
       "      <td>1.0</td>\n",
       "      <td>NaN</td>\n",
       "      <td>646.0</td>\n",
       "      <td>NaN</td>\n",
       "      <td>NaN</td>\n",
       "      <td>NaN</td>\n",
       "      <td>NaN</td>\n",
       "      <td>NaN</td>\n",
       "    </tr>\n",
       "    <tr>\n",
       "      <th>12914</th>\n",
       "      <td>1</td>\n",
       "      <td>1</td>\n",
       "      <td>29</td>\n",
       "      <td>6</td>\n",
       "      <td>2022-01-29</td>\n",
       "      <td>Delta Airlines</td>\n",
       "      <td>Detroit, MI</td>\n",
       "      <td>Buffalo, NY</td>\n",
       "      <td>365.0</td>\n",
       "      <td>NaN</td>\n",
       "      <td>1.0</td>\n",
       "      <td>NaN</td>\n",
       "      <td>241.0</td>\n",
       "      <td>NaN</td>\n",
       "      <td>NaN</td>\n",
       "      <td>NaN</td>\n",
       "      <td>NaN</td>\n",
       "      <td>NaN</td>\n",
       "    </tr>\n",
       "    <tr>\n",
       "      <th>13516</th>\n",
       "      <td>1</td>\n",
       "      <td>1</td>\n",
       "      <td>30</td>\n",
       "      <td>7</td>\n",
       "      <td>2022-01-30</td>\n",
       "      <td>Delta Airlines</td>\n",
       "      <td>Los Angeles, CA</td>\n",
       "      <td>Honolulu, HI</td>\n",
       "      <td>187.0</td>\n",
       "      <td>NaN</td>\n",
       "      <td>1.0</td>\n",
       "      <td>NaN</td>\n",
       "      <td>2556.0</td>\n",
       "      <td>NaN</td>\n",
       "      <td>NaN</td>\n",
       "      <td>NaN</td>\n",
       "      <td>NaN</td>\n",
       "      <td>NaN</td>\n",
       "    </tr>\n",
       "    <tr>\n",
       "      <th>18298</th>\n",
       "      <td>1</td>\n",
       "      <td>1</td>\n",
       "      <td>1</td>\n",
       "      <td>6</td>\n",
       "      <td>2022-01-01</td>\n",
       "      <td>Delta Airlines</td>\n",
       "      <td>Atlanta, GA</td>\n",
       "      <td>Eagle, CO</td>\n",
       "      <td>-1.0</td>\n",
       "      <td>NaN</td>\n",
       "      <td>1.0</td>\n",
       "      <td>NaN</td>\n",
       "      <td>1312.0</td>\n",
       "      <td>NaN</td>\n",
       "      <td>NaN</td>\n",
       "      <td>NaN</td>\n",
       "      <td>NaN</td>\n",
       "      <td>NaN</td>\n",
       "    </tr>\n",
       "    <tr>\n",
       "      <th>18723</th>\n",
       "      <td>1</td>\n",
       "      <td>1</td>\n",
       "      <td>1</td>\n",
       "      <td>6</td>\n",
       "      <td>2022-01-01</td>\n",
       "      <td>Delta Airlines</td>\n",
       "      <td>Atlanta, GA</td>\n",
       "      <td>Baltimore, MD</td>\n",
       "      <td>-1.0</td>\n",
       "      <td>NaN</td>\n",
       "      <td>1.0</td>\n",
       "      <td>NaN</td>\n",
       "      <td>577.0</td>\n",
       "      <td>NaN</td>\n",
       "      <td>NaN</td>\n",
       "      <td>NaN</td>\n",
       "      <td>NaN</td>\n",
       "      <td>NaN</td>\n",
       "    </tr>\n",
       "    <tr>\n",
       "      <th>19261</th>\n",
       "      <td>1</td>\n",
       "      <td>1</td>\n",
       "      <td>1</td>\n",
       "      <td>6</td>\n",
       "      <td>2022-01-01</td>\n",
       "      <td>Delta Airlines</td>\n",
       "      <td>Atlanta, GA</td>\n",
       "      <td>Little Rock, AR</td>\n",
       "      <td>20.0</td>\n",
       "      <td>NaN</td>\n",
       "      <td>1.0</td>\n",
       "      <td>NaN</td>\n",
       "      <td>453.0</td>\n",
       "      <td>NaN</td>\n",
       "      <td>NaN</td>\n",
       "      <td>NaN</td>\n",
       "      <td>NaN</td>\n",
       "      <td>NaN</td>\n",
       "    </tr>\n",
       "    <tr>\n",
       "      <th>19632</th>\n",
       "      <td>1</td>\n",
       "      <td>1</td>\n",
       "      <td>1</td>\n",
       "      <td>6</td>\n",
       "      <td>2022-01-01</td>\n",
       "      <td>Delta Airlines</td>\n",
       "      <td>Atlanta, GA</td>\n",
       "      <td>Huntsville, AL</td>\n",
       "      <td>187.0</td>\n",
       "      <td>NaN</td>\n",
       "      <td>1.0</td>\n",
       "      <td>NaN</td>\n",
       "      <td>151.0</td>\n",
       "      <td>NaN</td>\n",
       "      <td>NaN</td>\n",
       "      <td>NaN</td>\n",
       "      <td>NaN</td>\n",
       "      <td>NaN</td>\n",
       "    </tr>\n",
       "  </tbody>\n",
       "</table>\n",
       "</div>"
      ],
      "text/plain": [
       "       Quarter  Month  DayofMonth  DayOfWeek  FlightDate        Airlines  \\\n",
       "53           1      1           6          4  2022-01-06  Delta Airlines   \n",
       "106          1      1           6          4  2022-01-06  Delta Airlines   \n",
       "1885         1      1           7          5  2022-01-07  Delta Airlines   \n",
       "3515         1      1           8          6  2022-01-08  Delta Airlines   \n",
       "3808         1      1           8          6  2022-01-08  Delta Airlines   \n",
       "4488         1      1          15          6  2022-01-15  Delta Airlines   \n",
       "5655         1      1          16          7  2022-01-16  Delta Airlines   \n",
       "5778         1      1          16          7  2022-01-16  Delta Airlines   \n",
       "5901         1      1          16          7  2022-01-16  Delta Airlines   \n",
       "6922         1      1          16          7  2022-01-16  Delta Airlines   \n",
       "6954         1      1          16          7  2022-01-16  Delta Airlines   \n",
       "8036         1      1          17          1  2022-01-17  Delta Airlines   \n",
       "10336        1      1          18          2  2022-01-18  Delta Airlines   \n",
       "12404        1      1          29          6  2022-01-29  Delta Airlines   \n",
       "12914        1      1          29          6  2022-01-29  Delta Airlines   \n",
       "13516        1      1          30          7  2022-01-30  Delta Airlines   \n",
       "18298        1      1           1          6  2022-01-01  Delta Airlines   \n",
       "18723        1      1           1          6  2022-01-01  Delta Airlines   \n",
       "19261        1      1           1          6  2022-01-01  Delta Airlines   \n",
       "19632        1      1           1          6  2022-01-01  Delta Airlines   \n",
       "\n",
       "           OriginCityName      DestCityName  DepDelay  ArrDelay  Diverted  \\\n",
       "53            Atlanta, GA       Norfolk, VA      -2.0       NaN       1.0   \n",
       "106        Washington, DC       Seattle, WA      -1.0       NaN       1.0   \n",
       "1885   Salt Lake City, UT       Kahului, HI       9.0       NaN       1.0   \n",
       "3515          Atlanta, GA     Las Vegas, NV      30.0       NaN       1.0   \n",
       "3808          Detroit, MI     Las Vegas, NV      -6.0       NaN       1.0   \n",
       "4488        San Diego, CA       Seattle, WA      -3.0       NaN       1.0   \n",
       "5655       Washington, DC       Atlanta, GA      -4.0       NaN       1.0   \n",
       "5778        Las Vegas, NV      New York, NY      -2.0       NaN       1.0   \n",
       "5901          Atlanta, GA       Norfolk, VA       0.0       NaN       1.0   \n",
       "6922          Atlanta, GA    Harrisburg, PA      -4.0       NaN       1.0   \n",
       "6954          Atlanta, GA  Myrtle Beach, SC       9.0       NaN       1.0   \n",
       "8036          Detroit, MI      Portland, OR      19.0       NaN       1.0   \n",
       "10336         Atlanta, GA      New York, NY     144.0       NaN       1.0   \n",
       "12404         Atlanta, GA      Key West, FL      -3.0       NaN       1.0   \n",
       "12914         Detroit, MI       Buffalo, NY     365.0       NaN       1.0   \n",
       "13516     Los Angeles, CA      Honolulu, HI     187.0       NaN       1.0   \n",
       "18298         Atlanta, GA         Eagle, CO      -1.0       NaN       1.0   \n",
       "18723         Atlanta, GA     Baltimore, MD      -1.0       NaN       1.0   \n",
       "19261         Atlanta, GA   Little Rock, AR      20.0       NaN       1.0   \n",
       "19632         Atlanta, GA    Huntsville, AL     187.0       NaN       1.0   \n",
       "\n",
       "       AirTime  Distance  CarrierDelay  WeatherDelay  NASDelay  SecurityDelay  \\\n",
       "53         NaN     516.0           NaN           NaN       NaN            NaN   \n",
       "106        NaN    2306.0           NaN           NaN       NaN            NaN   \n",
       "1885       NaN    2935.0           NaN           NaN       NaN            NaN   \n",
       "3515       NaN    1747.0           NaN           NaN       NaN            NaN   \n",
       "3808       NaN    1749.0           NaN           NaN       NaN            NaN   \n",
       "4488       NaN    1050.0           NaN           NaN       NaN            NaN   \n",
       "5655       NaN     547.0           NaN           NaN       NaN            NaN   \n",
       "5778       NaN    2248.0           NaN           NaN       NaN            NaN   \n",
       "5901       NaN     516.0           NaN           NaN       NaN            NaN   \n",
       "6922       NaN     620.0           NaN           NaN       NaN            NaN   \n",
       "6954       NaN     317.0           NaN           NaN       NaN            NaN   \n",
       "8036       NaN    1953.0           NaN           NaN       NaN            NaN   \n",
       "10336      NaN     760.0           NaN           NaN       NaN            NaN   \n",
       "12404      NaN     646.0           NaN           NaN       NaN            NaN   \n",
       "12914      NaN     241.0           NaN           NaN       NaN            NaN   \n",
       "13516      NaN    2556.0           NaN           NaN       NaN            NaN   \n",
       "18298      NaN    1312.0           NaN           NaN       NaN            NaN   \n",
       "18723      NaN     577.0           NaN           NaN       NaN            NaN   \n",
       "19261      NaN     453.0           NaN           NaN       NaN            NaN   \n",
       "19632      NaN     151.0           NaN           NaN       NaN            NaN   \n",
       "\n",
       "       LateAircraftDelay  \n",
       "53                   NaN  \n",
       "106                  NaN  \n",
       "1885                 NaN  \n",
       "3515                 NaN  \n",
       "3808                 NaN  \n",
       "4488                 NaN  \n",
       "5655                 NaN  \n",
       "5778                 NaN  \n",
       "5901                 NaN  \n",
       "6922                 NaN  \n",
       "6954                 NaN  \n",
       "8036                 NaN  \n",
       "10336                NaN  \n",
       "12404                NaN  \n",
       "12914                NaN  \n",
       "13516                NaN  \n",
       "18298                NaN  \n",
       "18723                NaN  \n",
       "19261                NaN  \n",
       "19632                NaN  "
      ]
     },
     "execution_count": 44,
     "metadata": {},
     "output_type": "execute_result"
    }
   ],
   "source": [
    "df_DIV.head(20)"
   ]
  },
  {
   "cell_type": "code",
   "execution_count": 45,
   "id": "d0b397e9-577d-456b-b8fb-e1f8e0fdd915",
   "metadata": {},
   "outputs": [
    {
     "data": {
      "text/plain": [
       "0"
      ]
     },
     "execution_count": 45,
     "metadata": {},
     "output_type": "execute_result"
    }
   ],
   "source": [
    "df_DIV.ArrDelay.nunique()"
   ]
  },
  {
   "cell_type": "code",
   "execution_count": 46,
   "id": "1c510b75-eca1-4e9f-af6c-b7acb0d9ee99",
   "metadata": {},
   "outputs": [
    {
     "data": {
      "text/plain": [
       "array([nan])"
      ]
     },
     "execution_count": 46,
     "metadata": {},
     "output_type": "execute_result"
    }
   ],
   "source": [
    "df_DIV.ArrDelay.unique()"
   ]
  },
  {
   "cell_type": "code",
   "execution_count": 47,
   "id": "f1c047af-37f4-43ba-b6a5-3486c743282c",
   "metadata": {},
   "outputs": [
    {
     "data": {
      "text/plain": [
       "0"
      ]
     },
     "execution_count": 47,
     "metadata": {},
     "output_type": "execute_result"
    }
   ],
   "source": [
    "df_DIV.AirTime.nunique()"
   ]
  },
  {
   "cell_type": "code",
   "execution_count": 48,
   "id": "0931fed1-6693-4a7f-bac2-f3d2bc74fe67",
   "metadata": {},
   "outputs": [
    {
     "data": {
      "text/html": [
       "<div>\n",
       "<style scoped>\n",
       "    .dataframe tbody tr th:only-of-type {\n",
       "        vertical-align: middle;\n",
       "    }\n",
       "\n",
       "    .dataframe tbody tr th {\n",
       "        vertical-align: top;\n",
       "    }\n",
       "\n",
       "    .dataframe thead th {\n",
       "        text-align: right;\n",
       "    }\n",
       "</style>\n",
       "<table border=\"1\" class=\"dataframe\">\n",
       "  <thead>\n",
       "    <tr style=\"text-align: right;\">\n",
       "      <th></th>\n",
       "      <th>Quarter</th>\n",
       "      <th>Month</th>\n",
       "      <th>DayofMonth</th>\n",
       "      <th>DayOfWeek</th>\n",
       "      <th>FlightDate</th>\n",
       "      <th>Airlines</th>\n",
       "      <th>OriginCityName</th>\n",
       "      <th>DestCityName</th>\n",
       "      <th>DepDelay</th>\n",
       "      <th>ArrDelay</th>\n",
       "      <th>AirTime</th>\n",
       "      <th>Distance</th>\n",
       "      <th>CarrierDelay</th>\n",
       "      <th>WeatherDelay</th>\n",
       "      <th>NASDelay</th>\n",
       "      <th>SecurityDelay</th>\n",
       "      <th>LateAircraftDelay</th>\n",
       "    </tr>\n",
       "  </thead>\n",
       "  <tbody>\n",
       "    <tr>\n",
       "      <th>1</th>\n",
       "      <td>1</td>\n",
       "      <td>1</td>\n",
       "      <td>6</td>\n",
       "      <td>4</td>\n",
       "      <td>2022-01-06</td>\n",
       "      <td>Delta Airlines</td>\n",
       "      <td>Atlanta, GA</td>\n",
       "      <td>Fort Lauderdale, FL</td>\n",
       "      <td>-4.0</td>\n",
       "      <td>-1.0</td>\n",
       "      <td>93.0</td>\n",
       "      <td>581.0</td>\n",
       "      <td>NaN</td>\n",
       "      <td>NaN</td>\n",
       "      <td>NaN</td>\n",
       "      <td>NaN</td>\n",
       "      <td>NaN</td>\n",
       "    </tr>\n",
       "    <tr>\n",
       "      <th>2</th>\n",
       "      <td>1</td>\n",
       "      <td>1</td>\n",
       "      <td>6</td>\n",
       "      <td>4</td>\n",
       "      <td>2022-01-06</td>\n",
       "      <td>Delta Airlines</td>\n",
       "      <td>Fort Lauderdale, FL</td>\n",
       "      <td>Atlanta, GA</td>\n",
       "      <td>-2.0</td>\n",
       "      <td>-12.0</td>\n",
       "      <td>83.0</td>\n",
       "      <td>581.0</td>\n",
       "      <td>NaN</td>\n",
       "      <td>NaN</td>\n",
       "      <td>NaN</td>\n",
       "      <td>NaN</td>\n",
       "      <td>NaN</td>\n",
       "    </tr>\n",
       "    <tr>\n",
       "      <th>3</th>\n",
       "      <td>1</td>\n",
       "      <td>1</td>\n",
       "      <td>6</td>\n",
       "      <td>4</td>\n",
       "      <td>2022-01-06</td>\n",
       "      <td>Delta Airlines</td>\n",
       "      <td>Fort Lauderdale, FL</td>\n",
       "      <td>Raleigh/Durham, NC</td>\n",
       "      <td>-5.0</td>\n",
       "      <td>-15.0</td>\n",
       "      <td>93.0</td>\n",
       "      <td>680.0</td>\n",
       "      <td>NaN</td>\n",
       "      <td>NaN</td>\n",
       "      <td>NaN</td>\n",
       "      <td>NaN</td>\n",
       "      <td>NaN</td>\n",
       "    </tr>\n",
       "  </tbody>\n",
       "</table>\n",
       "</div>"
      ],
      "text/plain": [
       "   Quarter  Month  DayofMonth  DayOfWeek  FlightDate        Airlines  \\\n",
       "1        1      1           6          4  2022-01-06  Delta Airlines   \n",
       "2        1      1           6          4  2022-01-06  Delta Airlines   \n",
       "3        1      1           6          4  2022-01-06  Delta Airlines   \n",
       "\n",
       "        OriginCityName         DestCityName  DepDelay  ArrDelay  AirTime  \\\n",
       "1          Atlanta, GA  Fort Lauderdale, FL      -4.0      -1.0     93.0   \n",
       "2  Fort Lauderdale, FL          Atlanta, GA      -2.0     -12.0     83.0   \n",
       "3  Fort Lauderdale, FL   Raleigh/Durham, NC      -5.0     -15.0     93.0   \n",
       "\n",
       "   Distance  CarrierDelay  WeatherDelay  NASDelay  SecurityDelay  \\\n",
       "1     581.0           NaN           NaN       NaN            NaN   \n",
       "2     581.0           NaN           NaN       NaN            NaN   \n",
       "3     680.0           NaN           NaN       NaN            NaN   \n",
       "\n",
       "   LateAircraftDelay  \n",
       "1                NaN  \n",
       "2                NaN  \n",
       "3                NaN  "
      ]
     },
     "execution_count": 48,
     "metadata": {},
     "output_type": "execute_result"
    }
   ],
   "source": [
    "df = df.drop(['Diverted'], axis=1)\n",
    "df.head(3)"
   ]
  },
  {
   "cell_type": "code",
   "execution_count": 49,
   "id": "9c21cd6b-2f72-4a35-adab-1c93f798fc86",
   "metadata": {},
   "outputs": [
    {
     "data": {
      "text/plain": [
       "(6820654, 17)"
      ]
     },
     "execution_count": 49,
     "metadata": {},
     "output_type": "execute_result"
    }
   ],
   "source": [
    "df.shape"
   ]
  },
  {
   "cell_type": "code",
   "execution_count": 50,
   "id": "ceca5c90-340a-483b-8faa-b3684ff186e8",
   "metadata": {},
   "outputs": [
    {
     "name": "stdout",
     "output_type": "stream",
     "text": [
      "5394364\n",
      "5394364\n",
      "5394364\n",
      "5394364\n",
      "5394364\n"
     ]
    }
   ],
   "source": [
    "print(df.CarrierDelay.isna().sum())\n",
    "print(df.WeatherDelay.isna().sum())\n",
    "print(df.NASDelay.isna().sum())\n",
    "print(df.SecurityDelay.isna().sum())\n",
    "print(df.LateAircraftDelay.isna().sum())"
   ]
  },
  {
   "cell_type": "code",
   "execution_count": 51,
   "id": "c353ab19-4e95-47d2-bb00-e70838ae4bbd",
   "metadata": {},
   "outputs": [
    {
     "name": "stdout",
     "output_type": "stream",
     "text": [
      "Percentage of valid data: 20.91133782772151\n",
      "Percentage of missing values: 79.08866217227849\n"
     ]
    }
   ],
   "source": [
    "print(\"Percentage of valid data:\", 100 - (df.CarrierDelay.isna().sum()*100/len(df)))\n",
    "print(\"Percentage of missing values:\", (df.CarrierDelay.isna().sum()*100/len(df)))"
   ]
  },
  {
   "cell_type": "code",
   "execution_count": 52,
   "id": "db60329d-49cc-455a-83fb-9afd4e3094b6",
   "metadata": {
    "tags": []
   },
   "outputs": [
    {
     "name": "stdout",
     "output_type": "stream",
     "text": [
      "The current shape of df1 is: (6820654, 12)\n"
     ]
    },
    {
     "data": {
      "text/html": [
       "<div>\n",
       "<style scoped>\n",
       "    .dataframe tbody tr th:only-of-type {\n",
       "        vertical-align: middle;\n",
       "    }\n",
       "\n",
       "    .dataframe tbody tr th {\n",
       "        vertical-align: top;\n",
       "    }\n",
       "\n",
       "    .dataframe thead th {\n",
       "        text-align: right;\n",
       "    }\n",
       "</style>\n",
       "<table border=\"1\" class=\"dataframe\">\n",
       "  <thead>\n",
       "    <tr style=\"text-align: right;\">\n",
       "      <th></th>\n",
       "      <th>Quarter</th>\n",
       "      <th>Month</th>\n",
       "      <th>DayofMonth</th>\n",
       "      <th>DayOfWeek</th>\n",
       "      <th>FlightDate</th>\n",
       "      <th>Airlines</th>\n",
       "      <th>OriginCityName</th>\n",
       "      <th>DestCityName</th>\n",
       "      <th>DepDelay</th>\n",
       "      <th>ArrDelay</th>\n",
       "      <th>AirTime</th>\n",
       "      <th>Distance</th>\n",
       "    </tr>\n",
       "  </thead>\n",
       "  <tbody>\n",
       "    <tr>\n",
       "      <th>1</th>\n",
       "      <td>1</td>\n",
       "      <td>1</td>\n",
       "      <td>6</td>\n",
       "      <td>4</td>\n",
       "      <td>2022-01-06</td>\n",
       "      <td>Delta Airlines</td>\n",
       "      <td>Atlanta, GA</td>\n",
       "      <td>Fort Lauderdale, FL</td>\n",
       "      <td>-4.0</td>\n",
       "      <td>-1.0</td>\n",
       "      <td>93.0</td>\n",
       "      <td>581.0</td>\n",
       "    </tr>\n",
       "    <tr>\n",
       "      <th>2</th>\n",
       "      <td>1</td>\n",
       "      <td>1</td>\n",
       "      <td>6</td>\n",
       "      <td>4</td>\n",
       "      <td>2022-01-06</td>\n",
       "      <td>Delta Airlines</td>\n",
       "      <td>Fort Lauderdale, FL</td>\n",
       "      <td>Atlanta, GA</td>\n",
       "      <td>-2.0</td>\n",
       "      <td>-12.0</td>\n",
       "      <td>83.0</td>\n",
       "      <td>581.0</td>\n",
       "    </tr>\n",
       "    <tr>\n",
       "      <th>3</th>\n",
       "      <td>1</td>\n",
       "      <td>1</td>\n",
       "      <td>6</td>\n",
       "      <td>4</td>\n",
       "      <td>2022-01-06</td>\n",
       "      <td>Delta Airlines</td>\n",
       "      <td>Fort Lauderdale, FL</td>\n",
       "      <td>Raleigh/Durham, NC</td>\n",
       "      <td>-5.0</td>\n",
       "      <td>-15.0</td>\n",
       "      <td>93.0</td>\n",
       "      <td>680.0</td>\n",
       "    </tr>\n",
       "    <tr>\n",
       "      <th>4</th>\n",
       "      <td>1</td>\n",
       "      <td>1</td>\n",
       "      <td>6</td>\n",
       "      <td>4</td>\n",
       "      <td>2022-01-06</td>\n",
       "      <td>Delta Airlines</td>\n",
       "      <td>Atlanta, GA</td>\n",
       "      <td>Jackson/Vicksburg, MS</td>\n",
       "      <td>-4.0</td>\n",
       "      <td>-11.0</td>\n",
       "      <td>60.0</td>\n",
       "      <td>341.0</td>\n",
       "    </tr>\n",
       "    <tr>\n",
       "      <th>5</th>\n",
       "      <td>1</td>\n",
       "      <td>1</td>\n",
       "      <td>6</td>\n",
       "      <td>4</td>\n",
       "      <td>2022-01-06</td>\n",
       "      <td>Delta Airlines</td>\n",
       "      <td>Jackson/Vicksburg, MS</td>\n",
       "      <td>Atlanta, GA</td>\n",
       "      <td>-7.0</td>\n",
       "      <td>-23.0</td>\n",
       "      <td>49.0</td>\n",
       "      <td>341.0</td>\n",
       "    </tr>\n",
       "  </tbody>\n",
       "</table>\n",
       "</div>"
      ],
      "text/plain": [
       "   Quarter  Month  DayofMonth  DayOfWeek  FlightDate        Airlines  \\\n",
       "1        1      1           6          4  2022-01-06  Delta Airlines   \n",
       "2        1      1           6          4  2022-01-06  Delta Airlines   \n",
       "3        1      1           6          4  2022-01-06  Delta Airlines   \n",
       "4        1      1           6          4  2022-01-06  Delta Airlines   \n",
       "5        1      1           6          4  2022-01-06  Delta Airlines   \n",
       "\n",
       "          OriginCityName           DestCityName  DepDelay  ArrDelay  AirTime  \\\n",
       "1            Atlanta, GA    Fort Lauderdale, FL      -4.0      -1.0     93.0   \n",
       "2    Fort Lauderdale, FL            Atlanta, GA      -2.0     -12.0     83.0   \n",
       "3    Fort Lauderdale, FL     Raleigh/Durham, NC      -5.0     -15.0     93.0   \n",
       "4            Atlanta, GA  Jackson/Vicksburg, MS      -4.0     -11.0     60.0   \n",
       "5  Jackson/Vicksburg, MS            Atlanta, GA      -7.0     -23.0     49.0   \n",
       "\n",
       "   Distance  \n",
       "1     581.0  \n",
       "2     581.0  \n",
       "3     680.0  \n",
       "4     341.0  \n",
       "5     341.0  "
      ]
     },
     "execution_count": 52,
     "metadata": {},
     "output_type": "execute_result"
    }
   ],
   "source": [
    "df = df.drop(['CarrierDelay', 'WeatherDelay', 'NASDelay', 'SecurityDelay', 'LateAircraftDelay'], axis=1)\n",
    "print('The current shape of df1 is:', df.shape)\n",
    "df.head()"
   ]
  },
  {
   "cell_type": "code",
   "execution_count": 53,
   "id": "6b646868-6f28-4658-98b1-c60ab2d5f0ff",
   "metadata": {
    "tags": []
   },
   "outputs": [
    {
     "data": {
      "text/plain": [
       "Quarter               0\n",
       "Month                 0\n",
       "DayofMonth            0\n",
       "DayOfWeek             0\n",
       "FlightDate            0\n",
       "Airlines              0\n",
       "OriginCityName        0\n",
       "DestCityName          0\n",
       "DepDelay              0\n",
       "ArrDelay          16648\n",
       "AirTime           16648\n",
       "Distance              0\n",
       "dtype: int64"
      ]
     },
     "execution_count": 53,
     "metadata": {},
     "output_type": "execute_result"
    }
   ],
   "source": [
    "df.isna().sum()"
   ]
  },
  {
   "cell_type": "code",
   "execution_count": 54,
   "id": "4fc9cc31-2e33-404d-b096-9d39012bae58",
   "metadata": {},
   "outputs": [
    {
     "name": "stdout",
     "output_type": "stream",
     "text": [
      "Number of total missing values: 33296\n",
      "df shape: (6820654, 12)\n"
     ]
    }
   ],
   "source": [
    "print('Number of total missing values:', df.isna().sum().sum())\n",
    "print('df shape:', df.shape)"
   ]
  },
  {
   "cell_type": "code",
   "execution_count": 55,
   "id": "a4621ac7-2d14-44ca-9414-bd2fae80a82b",
   "metadata": {},
   "outputs": [
    {
     "data": {
      "text/html": [
       "<div>\n",
       "<style scoped>\n",
       "    .dataframe tbody tr th:only-of-type {\n",
       "        vertical-align: middle;\n",
       "    }\n",
       "\n",
       "    .dataframe tbody tr th {\n",
       "        vertical-align: top;\n",
       "    }\n",
       "\n",
       "    .dataframe thead th {\n",
       "        text-align: right;\n",
       "    }\n",
       "</style>\n",
       "<table border=\"1\" class=\"dataframe\">\n",
       "  <thead>\n",
       "    <tr style=\"text-align: right;\">\n",
       "      <th></th>\n",
       "      <th>Quarter</th>\n",
       "      <th>Month</th>\n",
       "      <th>DayofMonth</th>\n",
       "      <th>DayOfWeek</th>\n",
       "      <th>FlightDate</th>\n",
       "      <th>Airlines</th>\n",
       "      <th>OriginCityName</th>\n",
       "      <th>DestCityName</th>\n",
       "      <th>DepDelay</th>\n",
       "      <th>ArrDelay</th>\n",
       "      <th>AirTime</th>\n",
       "      <th>Distance</th>\n",
       "    </tr>\n",
       "  </thead>\n",
       "  <tbody>\n",
       "    <tr>\n",
       "      <th>53</th>\n",
       "      <td>1</td>\n",
       "      <td>1</td>\n",
       "      <td>6</td>\n",
       "      <td>4</td>\n",
       "      <td>2022-01-06</td>\n",
       "      <td>Delta Airlines</td>\n",
       "      <td>Atlanta, GA</td>\n",
       "      <td>Norfolk, VA</td>\n",
       "      <td>-2.0</td>\n",
       "      <td>NaN</td>\n",
       "      <td>NaN</td>\n",
       "      <td>516.0</td>\n",
       "    </tr>\n",
       "    <tr>\n",
       "      <th>106</th>\n",
       "      <td>1</td>\n",
       "      <td>1</td>\n",
       "      <td>6</td>\n",
       "      <td>4</td>\n",
       "      <td>2022-01-06</td>\n",
       "      <td>Delta Airlines</td>\n",
       "      <td>Washington, DC</td>\n",
       "      <td>Seattle, WA</td>\n",
       "      <td>-1.0</td>\n",
       "      <td>NaN</td>\n",
       "      <td>NaN</td>\n",
       "      <td>2306.0</td>\n",
       "    </tr>\n",
       "    <tr>\n",
       "      <th>1885</th>\n",
       "      <td>1</td>\n",
       "      <td>1</td>\n",
       "      <td>7</td>\n",
       "      <td>5</td>\n",
       "      <td>2022-01-07</td>\n",
       "      <td>Delta Airlines</td>\n",
       "      <td>Salt Lake City, UT</td>\n",
       "      <td>Kahului, HI</td>\n",
       "      <td>9.0</td>\n",
       "      <td>NaN</td>\n",
       "      <td>NaN</td>\n",
       "      <td>2935.0</td>\n",
       "    </tr>\n",
       "    <tr>\n",
       "      <th>3515</th>\n",
       "      <td>1</td>\n",
       "      <td>1</td>\n",
       "      <td>8</td>\n",
       "      <td>6</td>\n",
       "      <td>2022-01-08</td>\n",
       "      <td>Delta Airlines</td>\n",
       "      <td>Atlanta, GA</td>\n",
       "      <td>Las Vegas, NV</td>\n",
       "      <td>30.0</td>\n",
       "      <td>NaN</td>\n",
       "      <td>NaN</td>\n",
       "      <td>1747.0</td>\n",
       "    </tr>\n",
       "    <tr>\n",
       "      <th>3808</th>\n",
       "      <td>1</td>\n",
       "      <td>1</td>\n",
       "      <td>8</td>\n",
       "      <td>6</td>\n",
       "      <td>2022-01-08</td>\n",
       "      <td>Delta Airlines</td>\n",
       "      <td>Detroit, MI</td>\n",
       "      <td>Las Vegas, NV</td>\n",
       "      <td>-6.0</td>\n",
       "      <td>NaN</td>\n",
       "      <td>NaN</td>\n",
       "      <td>1749.0</td>\n",
       "    </tr>\n",
       "    <tr>\n",
       "      <th>4488</th>\n",
       "      <td>1</td>\n",
       "      <td>1</td>\n",
       "      <td>15</td>\n",
       "      <td>6</td>\n",
       "      <td>2022-01-15</td>\n",
       "      <td>Delta Airlines</td>\n",
       "      <td>San Diego, CA</td>\n",
       "      <td>Seattle, WA</td>\n",
       "      <td>-3.0</td>\n",
       "      <td>NaN</td>\n",
       "      <td>NaN</td>\n",
       "      <td>1050.0</td>\n",
       "    </tr>\n",
       "    <tr>\n",
       "      <th>5655</th>\n",
       "      <td>1</td>\n",
       "      <td>1</td>\n",
       "      <td>16</td>\n",
       "      <td>7</td>\n",
       "      <td>2022-01-16</td>\n",
       "      <td>Delta Airlines</td>\n",
       "      <td>Washington, DC</td>\n",
       "      <td>Atlanta, GA</td>\n",
       "      <td>-4.0</td>\n",
       "      <td>NaN</td>\n",
       "      <td>NaN</td>\n",
       "      <td>547.0</td>\n",
       "    </tr>\n",
       "    <tr>\n",
       "      <th>5778</th>\n",
       "      <td>1</td>\n",
       "      <td>1</td>\n",
       "      <td>16</td>\n",
       "      <td>7</td>\n",
       "      <td>2022-01-16</td>\n",
       "      <td>Delta Airlines</td>\n",
       "      <td>Las Vegas, NV</td>\n",
       "      <td>New York, NY</td>\n",
       "      <td>-2.0</td>\n",
       "      <td>NaN</td>\n",
       "      <td>NaN</td>\n",
       "      <td>2248.0</td>\n",
       "    </tr>\n",
       "    <tr>\n",
       "      <th>5901</th>\n",
       "      <td>1</td>\n",
       "      <td>1</td>\n",
       "      <td>16</td>\n",
       "      <td>7</td>\n",
       "      <td>2022-01-16</td>\n",
       "      <td>Delta Airlines</td>\n",
       "      <td>Atlanta, GA</td>\n",
       "      <td>Norfolk, VA</td>\n",
       "      <td>0.0</td>\n",
       "      <td>NaN</td>\n",
       "      <td>NaN</td>\n",
       "      <td>516.0</td>\n",
       "    </tr>\n",
       "    <tr>\n",
       "      <th>6922</th>\n",
       "      <td>1</td>\n",
       "      <td>1</td>\n",
       "      <td>16</td>\n",
       "      <td>7</td>\n",
       "      <td>2022-01-16</td>\n",
       "      <td>Delta Airlines</td>\n",
       "      <td>Atlanta, GA</td>\n",
       "      <td>Harrisburg, PA</td>\n",
       "      <td>-4.0</td>\n",
       "      <td>NaN</td>\n",
       "      <td>NaN</td>\n",
       "      <td>620.0</td>\n",
       "    </tr>\n",
       "    <tr>\n",
       "      <th>6954</th>\n",
       "      <td>1</td>\n",
       "      <td>1</td>\n",
       "      <td>16</td>\n",
       "      <td>7</td>\n",
       "      <td>2022-01-16</td>\n",
       "      <td>Delta Airlines</td>\n",
       "      <td>Atlanta, GA</td>\n",
       "      <td>Myrtle Beach, SC</td>\n",
       "      <td>9.0</td>\n",
       "      <td>NaN</td>\n",
       "      <td>NaN</td>\n",
       "      <td>317.0</td>\n",
       "    </tr>\n",
       "    <tr>\n",
       "      <th>8036</th>\n",
       "      <td>1</td>\n",
       "      <td>1</td>\n",
       "      <td>17</td>\n",
       "      <td>1</td>\n",
       "      <td>2022-01-17</td>\n",
       "      <td>Delta Airlines</td>\n",
       "      <td>Detroit, MI</td>\n",
       "      <td>Portland, OR</td>\n",
       "      <td>19.0</td>\n",
       "      <td>NaN</td>\n",
       "      <td>NaN</td>\n",
       "      <td>1953.0</td>\n",
       "    </tr>\n",
       "    <tr>\n",
       "      <th>10336</th>\n",
       "      <td>1</td>\n",
       "      <td>1</td>\n",
       "      <td>18</td>\n",
       "      <td>2</td>\n",
       "      <td>2022-01-18</td>\n",
       "      <td>Delta Airlines</td>\n",
       "      <td>Atlanta, GA</td>\n",
       "      <td>New York, NY</td>\n",
       "      <td>144.0</td>\n",
       "      <td>NaN</td>\n",
       "      <td>NaN</td>\n",
       "      <td>760.0</td>\n",
       "    </tr>\n",
       "    <tr>\n",
       "      <th>12404</th>\n",
       "      <td>1</td>\n",
       "      <td>1</td>\n",
       "      <td>29</td>\n",
       "      <td>6</td>\n",
       "      <td>2022-01-29</td>\n",
       "      <td>Delta Airlines</td>\n",
       "      <td>Atlanta, GA</td>\n",
       "      <td>Key West, FL</td>\n",
       "      <td>-3.0</td>\n",
       "      <td>NaN</td>\n",
       "      <td>NaN</td>\n",
       "      <td>646.0</td>\n",
       "    </tr>\n",
       "    <tr>\n",
       "      <th>12914</th>\n",
       "      <td>1</td>\n",
       "      <td>1</td>\n",
       "      <td>29</td>\n",
       "      <td>6</td>\n",
       "      <td>2022-01-29</td>\n",
       "      <td>Delta Airlines</td>\n",
       "      <td>Detroit, MI</td>\n",
       "      <td>Buffalo, NY</td>\n",
       "      <td>365.0</td>\n",
       "      <td>NaN</td>\n",
       "      <td>NaN</td>\n",
       "      <td>241.0</td>\n",
       "    </tr>\n",
       "    <tr>\n",
       "      <th>13516</th>\n",
       "      <td>1</td>\n",
       "      <td>1</td>\n",
       "      <td>30</td>\n",
       "      <td>7</td>\n",
       "      <td>2022-01-30</td>\n",
       "      <td>Delta Airlines</td>\n",
       "      <td>Los Angeles, CA</td>\n",
       "      <td>Honolulu, HI</td>\n",
       "      <td>187.0</td>\n",
       "      <td>NaN</td>\n",
       "      <td>NaN</td>\n",
       "      <td>2556.0</td>\n",
       "    </tr>\n",
       "    <tr>\n",
       "      <th>18298</th>\n",
       "      <td>1</td>\n",
       "      <td>1</td>\n",
       "      <td>1</td>\n",
       "      <td>6</td>\n",
       "      <td>2022-01-01</td>\n",
       "      <td>Delta Airlines</td>\n",
       "      <td>Atlanta, GA</td>\n",
       "      <td>Eagle, CO</td>\n",
       "      <td>-1.0</td>\n",
       "      <td>NaN</td>\n",
       "      <td>NaN</td>\n",
       "      <td>1312.0</td>\n",
       "    </tr>\n",
       "    <tr>\n",
       "      <th>18723</th>\n",
       "      <td>1</td>\n",
       "      <td>1</td>\n",
       "      <td>1</td>\n",
       "      <td>6</td>\n",
       "      <td>2022-01-01</td>\n",
       "      <td>Delta Airlines</td>\n",
       "      <td>Atlanta, GA</td>\n",
       "      <td>Baltimore, MD</td>\n",
       "      <td>-1.0</td>\n",
       "      <td>NaN</td>\n",
       "      <td>NaN</td>\n",
       "      <td>577.0</td>\n",
       "    </tr>\n",
       "    <tr>\n",
       "      <th>19261</th>\n",
       "      <td>1</td>\n",
       "      <td>1</td>\n",
       "      <td>1</td>\n",
       "      <td>6</td>\n",
       "      <td>2022-01-01</td>\n",
       "      <td>Delta Airlines</td>\n",
       "      <td>Atlanta, GA</td>\n",
       "      <td>Little Rock, AR</td>\n",
       "      <td>20.0</td>\n",
       "      <td>NaN</td>\n",
       "      <td>NaN</td>\n",
       "      <td>453.0</td>\n",
       "    </tr>\n",
       "    <tr>\n",
       "      <th>19632</th>\n",
       "      <td>1</td>\n",
       "      <td>1</td>\n",
       "      <td>1</td>\n",
       "      <td>6</td>\n",
       "      <td>2022-01-01</td>\n",
       "      <td>Delta Airlines</td>\n",
       "      <td>Atlanta, GA</td>\n",
       "      <td>Huntsville, AL</td>\n",
       "      <td>187.0</td>\n",
       "      <td>NaN</td>\n",
       "      <td>NaN</td>\n",
       "      <td>151.0</td>\n",
       "    </tr>\n",
       "  </tbody>\n",
       "</table>\n",
       "</div>"
      ],
      "text/plain": [
       "       Quarter  Month  DayofMonth  DayOfWeek  FlightDate        Airlines  \\\n",
       "53           1      1           6          4  2022-01-06  Delta Airlines   \n",
       "106          1      1           6          4  2022-01-06  Delta Airlines   \n",
       "1885         1      1           7          5  2022-01-07  Delta Airlines   \n",
       "3515         1      1           8          6  2022-01-08  Delta Airlines   \n",
       "3808         1      1           8          6  2022-01-08  Delta Airlines   \n",
       "4488         1      1          15          6  2022-01-15  Delta Airlines   \n",
       "5655         1      1          16          7  2022-01-16  Delta Airlines   \n",
       "5778         1      1          16          7  2022-01-16  Delta Airlines   \n",
       "5901         1      1          16          7  2022-01-16  Delta Airlines   \n",
       "6922         1      1          16          7  2022-01-16  Delta Airlines   \n",
       "6954         1      1          16          7  2022-01-16  Delta Airlines   \n",
       "8036         1      1          17          1  2022-01-17  Delta Airlines   \n",
       "10336        1      1          18          2  2022-01-18  Delta Airlines   \n",
       "12404        1      1          29          6  2022-01-29  Delta Airlines   \n",
       "12914        1      1          29          6  2022-01-29  Delta Airlines   \n",
       "13516        1      1          30          7  2022-01-30  Delta Airlines   \n",
       "18298        1      1           1          6  2022-01-01  Delta Airlines   \n",
       "18723        1      1           1          6  2022-01-01  Delta Airlines   \n",
       "19261        1      1           1          6  2022-01-01  Delta Airlines   \n",
       "19632        1      1           1          6  2022-01-01  Delta Airlines   \n",
       "\n",
       "           OriginCityName      DestCityName  DepDelay  ArrDelay  AirTime  \\\n",
       "53            Atlanta, GA       Norfolk, VA      -2.0       NaN      NaN   \n",
       "106        Washington, DC       Seattle, WA      -1.0       NaN      NaN   \n",
       "1885   Salt Lake City, UT       Kahului, HI       9.0       NaN      NaN   \n",
       "3515          Atlanta, GA     Las Vegas, NV      30.0       NaN      NaN   \n",
       "3808          Detroit, MI     Las Vegas, NV      -6.0       NaN      NaN   \n",
       "4488        San Diego, CA       Seattle, WA      -3.0       NaN      NaN   \n",
       "5655       Washington, DC       Atlanta, GA      -4.0       NaN      NaN   \n",
       "5778        Las Vegas, NV      New York, NY      -2.0       NaN      NaN   \n",
       "5901          Atlanta, GA       Norfolk, VA       0.0       NaN      NaN   \n",
       "6922          Atlanta, GA    Harrisburg, PA      -4.0       NaN      NaN   \n",
       "6954          Atlanta, GA  Myrtle Beach, SC       9.0       NaN      NaN   \n",
       "8036          Detroit, MI      Portland, OR      19.0       NaN      NaN   \n",
       "10336         Atlanta, GA      New York, NY     144.0       NaN      NaN   \n",
       "12404         Atlanta, GA      Key West, FL      -3.0       NaN      NaN   \n",
       "12914         Detroit, MI       Buffalo, NY     365.0       NaN      NaN   \n",
       "13516     Los Angeles, CA      Honolulu, HI     187.0       NaN      NaN   \n",
       "18298         Atlanta, GA         Eagle, CO      -1.0       NaN      NaN   \n",
       "18723         Atlanta, GA     Baltimore, MD      -1.0       NaN      NaN   \n",
       "19261         Atlanta, GA   Little Rock, AR      20.0       NaN      NaN   \n",
       "19632         Atlanta, GA    Huntsville, AL     187.0       NaN      NaN   \n",
       "\n",
       "       Distance  \n",
       "53        516.0  \n",
       "106      2306.0  \n",
       "1885     2935.0  \n",
       "3515     1747.0  \n",
       "3808     1749.0  \n",
       "4488     1050.0  \n",
       "5655      547.0  \n",
       "5778     2248.0  \n",
       "5901      516.0  \n",
       "6922      620.0  \n",
       "6954      317.0  \n",
       "8036     1953.0  \n",
       "10336     760.0  \n",
       "12404     646.0  \n",
       "12914     241.0  \n",
       "13516    2556.0  \n",
       "18298    1312.0  \n",
       "18723     577.0  \n",
       "19261     453.0  \n",
       "19632     151.0  "
      ]
     },
     "execution_count": 55,
     "metadata": {},
     "output_type": "execute_result"
    }
   ],
   "source": [
    "df_NaN = df.loc[df.isnull().any(axis=1)]\n",
    "df_NaN.head(20)"
   ]
  },
  {
   "cell_type": "code",
   "execution_count": 56,
   "id": "d4a6aa86-fb43-4017-a0ec-75dafc217974",
   "metadata": {},
   "outputs": [
    {
     "data": {
      "text/plain": [
       "(16648, 12)"
      ]
     },
     "execution_count": 56,
     "metadata": {},
     "output_type": "execute_result"
    }
   ],
   "source": [
    "df_NaN.shape"
   ]
  },
  {
   "cell_type": "code",
   "execution_count": 57,
   "id": "e26acbbc-75bb-4146-bbe9-49a5b6cf2925",
   "metadata": {},
   "outputs": [
    {
     "name": "stdout",
     "output_type": "stream",
     "text": [
      "Percentage of rows with at least 1 NaN value: 0.24408216572780264\n"
     ]
    }
   ],
   "source": [
    "percentage_NaN = (len(df_NaN)*100)/len(df)\n",
    "print('Percentage of rows with at least 1 NaN value:', percentage_NaN)"
   ]
  },
  {
   "cell_type": "code",
   "execution_count": 58,
   "id": "71f9b0a2-af34-468b-a8bf-84fdebcdaf93",
   "metadata": {},
   "outputs": [],
   "source": [
    "df = df.dropna()"
   ]
  },
  {
   "cell_type": "code",
   "execution_count": 59,
   "id": "82c4b4ea-13a3-479b-a71b-6f5e006ac3bc",
   "metadata": {},
   "outputs": [
    {
     "data": {
      "text/plain": [
       "(6804006, 12)"
      ]
     },
     "execution_count": 59,
     "metadata": {},
     "output_type": "execute_result"
    }
   ],
   "source": [
    "df.shape"
   ]
  },
  {
   "cell_type": "code",
   "execution_count": 60,
   "id": "c9eddb82-0653-4f09-8e84-68ef4caeade3",
   "metadata": {},
   "outputs": [
    {
     "data": {
      "text/plain": [
       "Quarter           0\n",
       "Month             0\n",
       "DayofMonth        0\n",
       "DayOfWeek         0\n",
       "FlightDate        0\n",
       "Airlines          0\n",
       "OriginCityName    0\n",
       "DestCityName      0\n",
       "DepDelay          0\n",
       "ArrDelay          0\n",
       "AirTime           0\n",
       "Distance          0\n",
       "dtype: int64"
      ]
     },
     "execution_count": 60,
     "metadata": {},
     "output_type": "execute_result"
    }
   ],
   "source": [
    "df.isna().sum()"
   ]
  },
  {
   "cell_type": "code",
   "execution_count": 61,
   "id": "6fffbcd5-79f7-4f67-9f6d-06a60ac65ef9",
   "metadata": {},
   "outputs": [
    {
     "data": {
      "text/html": [
       "<div>\n",
       "<style scoped>\n",
       "    .dataframe tbody tr th:only-of-type {\n",
       "        vertical-align: middle;\n",
       "    }\n",
       "\n",
       "    .dataframe tbody tr th {\n",
       "        vertical-align: top;\n",
       "    }\n",
       "\n",
       "    .dataframe thead th {\n",
       "        text-align: right;\n",
       "    }\n",
       "</style>\n",
       "<table border=\"1\" class=\"dataframe\">\n",
       "  <thead>\n",
       "    <tr style=\"text-align: right;\">\n",
       "      <th></th>\n",
       "      <th>Quarter</th>\n",
       "      <th>Month</th>\n",
       "      <th>DayofMonth</th>\n",
       "      <th>DayOfWeek</th>\n",
       "      <th>FlightDate</th>\n",
       "      <th>Airlines</th>\n",
       "      <th>OriginCityName</th>\n",
       "      <th>DestCityName</th>\n",
       "      <th>DepDelay</th>\n",
       "      <th>ArrDelay</th>\n",
       "      <th>AirTime</th>\n",
       "      <th>Distance</th>\n",
       "    </tr>\n",
       "  </thead>\n",
       "  <tbody>\n",
       "    <tr>\n",
       "      <th>1</th>\n",
       "      <td>1</td>\n",
       "      <td>1</td>\n",
       "      <td>6</td>\n",
       "      <td>4</td>\n",
       "      <td>2022-01-06</td>\n",
       "      <td>Delta Airlines</td>\n",
       "      <td>Atlanta, GA</td>\n",
       "      <td>Fort Lauderdale, FL</td>\n",
       "      <td>-4.0</td>\n",
       "      <td>-1.0</td>\n",
       "      <td>93.0</td>\n",
       "      <td>581.0</td>\n",
       "    </tr>\n",
       "    <tr>\n",
       "      <th>2</th>\n",
       "      <td>1</td>\n",
       "      <td>1</td>\n",
       "      <td>6</td>\n",
       "      <td>4</td>\n",
       "      <td>2022-01-06</td>\n",
       "      <td>Delta Airlines</td>\n",
       "      <td>Fort Lauderdale, FL</td>\n",
       "      <td>Atlanta, GA</td>\n",
       "      <td>-2.0</td>\n",
       "      <td>-12.0</td>\n",
       "      <td>83.0</td>\n",
       "      <td>581.0</td>\n",
       "    </tr>\n",
       "  </tbody>\n",
       "</table>\n",
       "</div>"
      ],
      "text/plain": [
       "   Quarter  Month  DayofMonth  DayOfWeek  FlightDate        Airlines  \\\n",
       "1        1      1           6          4  2022-01-06  Delta Airlines   \n",
       "2        1      1           6          4  2022-01-06  Delta Airlines   \n",
       "\n",
       "        OriginCityName         DestCityName  DepDelay  ArrDelay  AirTime  \\\n",
       "1          Atlanta, GA  Fort Lauderdale, FL      -4.0      -1.0     93.0   \n",
       "2  Fort Lauderdale, FL          Atlanta, GA      -2.0     -12.0     83.0   \n",
       "\n",
       "   Distance  \n",
       "1     581.0  \n",
       "2     581.0  "
      ]
     },
     "execution_count": 61,
     "metadata": {},
     "output_type": "execute_result"
    }
   ],
   "source": [
    "df.head(2)"
   ]
  },
  {
   "cell_type": "code",
   "execution_count": 62,
   "id": "148fc994-0b49-4f84-89d6-40c87f506618",
   "metadata": {},
   "outputs": [
    {
     "name": "stdout",
     "output_type": "stream",
     "text": [
      "Maximum number of days in a month: 31\n",
      "Total number of months: 12\n",
      "Total number of day of Week: 7\n"
     ]
    }
   ],
   "source": [
    "print('Maximum number of days in a month:', df.DayofMonth.nunique())\n",
    "print('Total number of months:', df.Month.nunique())\n",
    "print('Total number of day of Week:', df.DayOfWeek.nunique())"
   ]
  },
  {
   "cell_type": "code",
   "execution_count": 63,
   "id": "bc9f7e26-d1de-499d-9007-73a1274eee37",
   "metadata": {
    "tags": []
   },
   "outputs": [],
   "source": [
    "import calendar\n",
    "df['Month_Str'] = df['Month'].apply(lambda x: calendar.month_abbr[x])"
   ]
  },
  {
   "cell_type": "code",
   "execution_count": 64,
   "id": "3459beab-6f70-49e1-85ad-2eef08f2d551",
   "metadata": {
    "tags": []
   },
   "outputs": [
    {
     "data": {
      "text/html": [
       "<div>\n",
       "<style scoped>\n",
       "    .dataframe tbody tr th:only-of-type {\n",
       "        vertical-align: middle;\n",
       "    }\n",
       "\n",
       "    .dataframe tbody tr th {\n",
       "        vertical-align: top;\n",
       "    }\n",
       "\n",
       "    .dataframe thead th {\n",
       "        text-align: right;\n",
       "    }\n",
       "</style>\n",
       "<table border=\"1\" class=\"dataframe\">\n",
       "  <thead>\n",
       "    <tr style=\"text-align: right;\">\n",
       "      <th></th>\n",
       "      <th>Quarter</th>\n",
       "      <th>Month</th>\n",
       "      <th>DayofMonth</th>\n",
       "      <th>DayOfWeek</th>\n",
       "      <th>FlightDate</th>\n",
       "      <th>Airlines</th>\n",
       "      <th>OriginCityName</th>\n",
       "      <th>DestCityName</th>\n",
       "      <th>DepDelay</th>\n",
       "      <th>ArrDelay</th>\n",
       "      <th>AirTime</th>\n",
       "      <th>Distance</th>\n",
       "      <th>Month_Str</th>\n",
       "    </tr>\n",
       "  </thead>\n",
       "  <tbody>\n",
       "    <tr>\n",
       "      <th>1</th>\n",
       "      <td>1</td>\n",
       "      <td>1</td>\n",
       "      <td>6</td>\n",
       "      <td>4</td>\n",
       "      <td>2022-01-06</td>\n",
       "      <td>Delta Airlines</td>\n",
       "      <td>Atlanta, GA</td>\n",
       "      <td>Fort Lauderdale, FL</td>\n",
       "      <td>-4.0</td>\n",
       "      <td>-1.0</td>\n",
       "      <td>93.0</td>\n",
       "      <td>581.0</td>\n",
       "      <td>Jan</td>\n",
       "    </tr>\n",
       "    <tr>\n",
       "      <th>2</th>\n",
       "      <td>1</td>\n",
       "      <td>1</td>\n",
       "      <td>6</td>\n",
       "      <td>4</td>\n",
       "      <td>2022-01-06</td>\n",
       "      <td>Delta Airlines</td>\n",
       "      <td>Fort Lauderdale, FL</td>\n",
       "      <td>Atlanta, GA</td>\n",
       "      <td>-2.0</td>\n",
       "      <td>-12.0</td>\n",
       "      <td>83.0</td>\n",
       "      <td>581.0</td>\n",
       "      <td>Jan</td>\n",
       "    </tr>\n",
       "    <tr>\n",
       "      <th>3</th>\n",
       "      <td>1</td>\n",
       "      <td>1</td>\n",
       "      <td>6</td>\n",
       "      <td>4</td>\n",
       "      <td>2022-01-06</td>\n",
       "      <td>Delta Airlines</td>\n",
       "      <td>Fort Lauderdale, FL</td>\n",
       "      <td>Raleigh/Durham, NC</td>\n",
       "      <td>-5.0</td>\n",
       "      <td>-15.0</td>\n",
       "      <td>93.0</td>\n",
       "      <td>680.0</td>\n",
       "      <td>Jan</td>\n",
       "    </tr>\n",
       "  </tbody>\n",
       "</table>\n",
       "</div>"
      ],
      "text/plain": [
       "   Quarter  Month  DayofMonth  DayOfWeek  FlightDate        Airlines  \\\n",
       "1        1      1           6          4  2022-01-06  Delta Airlines   \n",
       "2        1      1           6          4  2022-01-06  Delta Airlines   \n",
       "3        1      1           6          4  2022-01-06  Delta Airlines   \n",
       "\n",
       "        OriginCityName         DestCityName  DepDelay  ArrDelay  AirTime  \\\n",
       "1          Atlanta, GA  Fort Lauderdale, FL      -4.0      -1.0     93.0   \n",
       "2  Fort Lauderdale, FL          Atlanta, GA      -2.0     -12.0     83.0   \n",
       "3  Fort Lauderdale, FL   Raleigh/Durham, NC      -5.0     -15.0     93.0   \n",
       "\n",
       "   Distance Month_Str  \n",
       "1     581.0       Jan  \n",
       "2     581.0       Jan  \n",
       "3     680.0       Jan  "
      ]
     },
     "execution_count": 64,
     "metadata": {},
     "output_type": "execute_result"
    }
   ],
   "source": [
    "df.head(3)"
   ]
  },
  {
   "cell_type": "code",
   "execution_count": 65,
   "id": "eb515877-9f47-476c-b5b5-f9d84acb7a28",
   "metadata": {},
   "outputs": [
    {
     "name": "stdout",
     "output_type": "stream",
     "text": [
      "Months present in dataframe: [ 1  2  3  4  5  6  7  8  9 10 11 12]\n",
      "Months present in dataframe: ['Jan' 'Feb' 'Mar' 'Apr' 'May' 'Jun' 'Jul' 'Aug' 'Sep' 'Oct' 'Nov' 'Dec']\n"
     ]
    }
   ],
   "source": [
    "print('Months present in dataframe:', df.Month.unique())\n",
    "print('Months present in dataframe:', df.Month_Str.unique())"
   ]
  },
  {
   "cell_type": "code",
   "execution_count": 66,
   "id": "48ab81cb-8045-40e1-86df-9494a81897c3",
   "metadata": {},
   "outputs": [
    {
     "data": {
      "text/html": [
       "<div>\n",
       "<style scoped>\n",
       "    .dataframe tbody tr th:only-of-type {\n",
       "        vertical-align: middle;\n",
       "    }\n",
       "\n",
       "    .dataframe tbody tr th {\n",
       "        vertical-align: top;\n",
       "    }\n",
       "\n",
       "    .dataframe thead th {\n",
       "        text-align: right;\n",
       "    }\n",
       "</style>\n",
       "<table border=\"1\" class=\"dataframe\">\n",
       "  <thead>\n",
       "    <tr style=\"text-align: right;\">\n",
       "      <th></th>\n",
       "      <th>Quarter</th>\n",
       "      <th>Month</th>\n",
       "      <th>DayofMonth</th>\n",
       "      <th>DayOfWeek</th>\n",
       "      <th>FlightDate</th>\n",
       "      <th>Airlines</th>\n",
       "      <th>OriginCityName</th>\n",
       "      <th>DestCityName</th>\n",
       "      <th>DepDelay</th>\n",
       "      <th>ArrDelay</th>\n",
       "      <th>AirTime</th>\n",
       "      <th>Distance</th>\n",
       "      <th>Month_Str</th>\n",
       "      <th>DayOfWeek_Str</th>\n",
       "    </tr>\n",
       "  </thead>\n",
       "  <tbody>\n",
       "    <tr>\n",
       "      <th>1</th>\n",
       "      <td>1</td>\n",
       "      <td>1</td>\n",
       "      <td>6</td>\n",
       "      <td>4</td>\n",
       "      <td>2022-01-06</td>\n",
       "      <td>Delta Airlines</td>\n",
       "      <td>Atlanta, GA</td>\n",
       "      <td>Fort Lauderdale, FL</td>\n",
       "      <td>-4.0</td>\n",
       "      <td>-1.0</td>\n",
       "      <td>93.0</td>\n",
       "      <td>581.0</td>\n",
       "      <td>Jan</td>\n",
       "      <td>Thu</td>\n",
       "    </tr>\n",
       "    <tr>\n",
       "      <th>2</th>\n",
       "      <td>1</td>\n",
       "      <td>1</td>\n",
       "      <td>6</td>\n",
       "      <td>4</td>\n",
       "      <td>2022-01-06</td>\n",
       "      <td>Delta Airlines</td>\n",
       "      <td>Fort Lauderdale, FL</td>\n",
       "      <td>Atlanta, GA</td>\n",
       "      <td>-2.0</td>\n",
       "      <td>-12.0</td>\n",
       "      <td>83.0</td>\n",
       "      <td>581.0</td>\n",
       "      <td>Jan</td>\n",
       "      <td>Thu</td>\n",
       "    </tr>\n",
       "    <tr>\n",
       "      <th>3</th>\n",
       "      <td>1</td>\n",
       "      <td>1</td>\n",
       "      <td>6</td>\n",
       "      <td>4</td>\n",
       "      <td>2022-01-06</td>\n",
       "      <td>Delta Airlines</td>\n",
       "      <td>Fort Lauderdale, FL</td>\n",
       "      <td>Raleigh/Durham, NC</td>\n",
       "      <td>-5.0</td>\n",
       "      <td>-15.0</td>\n",
       "      <td>93.0</td>\n",
       "      <td>680.0</td>\n",
       "      <td>Jan</td>\n",
       "      <td>Thu</td>\n",
       "    </tr>\n",
       "    <tr>\n",
       "      <th>4</th>\n",
       "      <td>1</td>\n",
       "      <td>1</td>\n",
       "      <td>6</td>\n",
       "      <td>4</td>\n",
       "      <td>2022-01-06</td>\n",
       "      <td>Delta Airlines</td>\n",
       "      <td>Atlanta, GA</td>\n",
       "      <td>Jackson/Vicksburg, MS</td>\n",
       "      <td>-4.0</td>\n",
       "      <td>-11.0</td>\n",
       "      <td>60.0</td>\n",
       "      <td>341.0</td>\n",
       "      <td>Jan</td>\n",
       "      <td>Thu</td>\n",
       "    </tr>\n",
       "    <tr>\n",
       "      <th>5</th>\n",
       "      <td>1</td>\n",
       "      <td>1</td>\n",
       "      <td>6</td>\n",
       "      <td>4</td>\n",
       "      <td>2022-01-06</td>\n",
       "      <td>Delta Airlines</td>\n",
       "      <td>Jackson/Vicksburg, MS</td>\n",
       "      <td>Atlanta, GA</td>\n",
       "      <td>-7.0</td>\n",
       "      <td>-23.0</td>\n",
       "      <td>49.0</td>\n",
       "      <td>341.0</td>\n",
       "      <td>Jan</td>\n",
       "      <td>Thu</td>\n",
       "    </tr>\n",
       "  </tbody>\n",
       "</table>\n",
       "</div>"
      ],
      "text/plain": [
       "   Quarter  Month  DayofMonth  DayOfWeek  FlightDate        Airlines  \\\n",
       "1        1      1           6          4  2022-01-06  Delta Airlines   \n",
       "2        1      1           6          4  2022-01-06  Delta Airlines   \n",
       "3        1      1           6          4  2022-01-06  Delta Airlines   \n",
       "4        1      1           6          4  2022-01-06  Delta Airlines   \n",
       "5        1      1           6          4  2022-01-06  Delta Airlines   \n",
       "\n",
       "          OriginCityName           DestCityName  DepDelay  ArrDelay  AirTime  \\\n",
       "1            Atlanta, GA    Fort Lauderdale, FL      -4.0      -1.0     93.0   \n",
       "2    Fort Lauderdale, FL            Atlanta, GA      -2.0     -12.0     83.0   \n",
       "3    Fort Lauderdale, FL     Raleigh/Durham, NC      -5.0     -15.0     93.0   \n",
       "4            Atlanta, GA  Jackson/Vicksburg, MS      -4.0     -11.0     60.0   \n",
       "5  Jackson/Vicksburg, MS            Atlanta, GA      -7.0     -23.0     49.0   \n",
       "\n",
       "   Distance Month_Str DayOfWeek_Str  \n",
       "1     581.0       Jan           Thu  \n",
       "2     581.0       Jan           Thu  \n",
       "3     680.0       Jan           Thu  \n",
       "4     341.0       Jan           Thu  \n",
       "5     341.0       Jan           Thu  "
      ]
     },
     "execution_count": 66,
     "metadata": {},
     "output_type": "execute_result"
    }
   ],
   "source": [
    "status = []\n",
    "\n",
    "for value in df['DayOfWeek']:\n",
    "    if value == 1:\n",
    "        status.append(\"Mon\")\n",
    "    if value == 2:\n",
    "        status.append(\"Tue\") \n",
    "    if value == 3:\n",
    "        status.append(\"Wed\") \n",
    "    if value == 4:\n",
    "        status.append(\"Thu\") \n",
    "    if value == 5:\n",
    "        status.append(\"Fri\") \n",
    "    if value == 6:\n",
    "        status.append(\"Sat\") \n",
    "    if value == 7:\n",
    "        status.append(\"Sun\")\n",
    "   \n",
    "df['DayOfWeek_Str'] = status\n",
    "df.head()    "
   ]
  },
  {
   "cell_type": "code",
   "execution_count": 67,
   "id": "4d243d4a-a6c7-428f-afc6-68446f05d6b2",
   "metadata": {},
   "outputs": [
    {
     "data": {
      "text/plain": [
       "Mon    1010240\n",
       "Fri    1005797\n",
       "Thu     998625\n",
       "Sun     987749\n",
       "Wed     960791\n",
       "Tue     954821\n",
       "Sat     885983\n",
       "Name: DayOfWeek_Str, dtype: int64"
      ]
     },
     "execution_count": 67,
     "metadata": {},
     "output_type": "execute_result"
    }
   ],
   "source": [
    "df.DayOfWeek_Str.value_counts()"
   ]
  },
  {
   "cell_type": "code",
   "execution_count": 68,
   "id": "1f82a9af-ec36-4a6f-98d2-db2ff10e6a4e",
   "metadata": {},
   "outputs": [
    {
     "data": {
      "text/plain": [
       "array([-100.,  -99.,  -96., ..., 5324., 5986., 7232.])"
      ]
     },
     "execution_count": 68,
     "metadata": {},
     "output_type": "execute_result"
    }
   ],
   "source": [
    "df[\"ArrDelay\"].sort_values().unique()"
   ]
  },
  {
   "cell_type": "markdown",
   "id": "9e4bb1b0-f013-461c-9fb3-e4bd723ceaf9",
   "metadata": {},
   "source": [
    "The Federal Aviation Administration(FAA) considers a flight to be delayed when it is 15minutes later than its scheduled time. This is a binary classification (Delay or Either Earlier or On Time). 1 represents delayed flights."
   ]
  },
  {
   "cell_type": "code",
   "execution_count": 69,
   "id": "13a02ddf-a500-467c-9572-8c68ceb35a0c",
   "metadata": {},
   "outputs": [
    {
     "data": {
      "text/html": [
       "<div>\n",
       "<style scoped>\n",
       "    .dataframe tbody tr th:only-of-type {\n",
       "        vertical-align: middle;\n",
       "    }\n",
       "\n",
       "    .dataframe tbody tr th {\n",
       "        vertical-align: top;\n",
       "    }\n",
       "\n",
       "    .dataframe thead th {\n",
       "        text-align: right;\n",
       "    }\n",
       "</style>\n",
       "<table border=\"1\" class=\"dataframe\">\n",
       "  <thead>\n",
       "    <tr style=\"text-align: right;\">\n",
       "      <th></th>\n",
       "      <th>Quarter</th>\n",
       "      <th>Month</th>\n",
       "      <th>DayofMonth</th>\n",
       "      <th>DayOfWeek</th>\n",
       "      <th>FlightDate</th>\n",
       "      <th>Airlines</th>\n",
       "      <th>OriginCityName</th>\n",
       "      <th>DestCityName</th>\n",
       "      <th>DepDelay</th>\n",
       "      <th>ArrDelay</th>\n",
       "      <th>AirTime</th>\n",
       "      <th>Distance</th>\n",
       "      <th>Month_Str</th>\n",
       "      <th>DayOfWeek_Str</th>\n",
       "      <th>Flight_Status</th>\n",
       "    </tr>\n",
       "  </thead>\n",
       "  <tbody>\n",
       "    <tr>\n",
       "      <th>1</th>\n",
       "      <td>1</td>\n",
       "      <td>1</td>\n",
       "      <td>6</td>\n",
       "      <td>4</td>\n",
       "      <td>2022-01-06</td>\n",
       "      <td>Delta Airlines</td>\n",
       "      <td>Atlanta, GA</td>\n",
       "      <td>Fort Lauderdale, FL</td>\n",
       "      <td>-4.0</td>\n",
       "      <td>-1.0</td>\n",
       "      <td>93.0</td>\n",
       "      <td>581.0</td>\n",
       "      <td>Jan</td>\n",
       "      <td>Thu</td>\n",
       "      <td>0</td>\n",
       "    </tr>\n",
       "    <tr>\n",
       "      <th>2</th>\n",
       "      <td>1</td>\n",
       "      <td>1</td>\n",
       "      <td>6</td>\n",
       "      <td>4</td>\n",
       "      <td>2022-01-06</td>\n",
       "      <td>Delta Airlines</td>\n",
       "      <td>Fort Lauderdale, FL</td>\n",
       "      <td>Atlanta, GA</td>\n",
       "      <td>-2.0</td>\n",
       "      <td>-12.0</td>\n",
       "      <td>83.0</td>\n",
       "      <td>581.0</td>\n",
       "      <td>Jan</td>\n",
       "      <td>Thu</td>\n",
       "      <td>0</td>\n",
       "    </tr>\n",
       "    <tr>\n",
       "      <th>3</th>\n",
       "      <td>1</td>\n",
       "      <td>1</td>\n",
       "      <td>6</td>\n",
       "      <td>4</td>\n",
       "      <td>2022-01-06</td>\n",
       "      <td>Delta Airlines</td>\n",
       "      <td>Fort Lauderdale, FL</td>\n",
       "      <td>Raleigh/Durham, NC</td>\n",
       "      <td>-5.0</td>\n",
       "      <td>-15.0</td>\n",
       "      <td>93.0</td>\n",
       "      <td>680.0</td>\n",
       "      <td>Jan</td>\n",
       "      <td>Thu</td>\n",
       "      <td>0</td>\n",
       "    </tr>\n",
       "    <tr>\n",
       "      <th>4</th>\n",
       "      <td>1</td>\n",
       "      <td>1</td>\n",
       "      <td>6</td>\n",
       "      <td>4</td>\n",
       "      <td>2022-01-06</td>\n",
       "      <td>Delta Airlines</td>\n",
       "      <td>Atlanta, GA</td>\n",
       "      <td>Jackson/Vicksburg, MS</td>\n",
       "      <td>-4.0</td>\n",
       "      <td>-11.0</td>\n",
       "      <td>60.0</td>\n",
       "      <td>341.0</td>\n",
       "      <td>Jan</td>\n",
       "      <td>Thu</td>\n",
       "      <td>0</td>\n",
       "    </tr>\n",
       "    <tr>\n",
       "      <th>5</th>\n",
       "      <td>1</td>\n",
       "      <td>1</td>\n",
       "      <td>6</td>\n",
       "      <td>4</td>\n",
       "      <td>2022-01-06</td>\n",
       "      <td>Delta Airlines</td>\n",
       "      <td>Jackson/Vicksburg, MS</td>\n",
       "      <td>Atlanta, GA</td>\n",
       "      <td>-7.0</td>\n",
       "      <td>-23.0</td>\n",
       "      <td>49.0</td>\n",
       "      <td>341.0</td>\n",
       "      <td>Jan</td>\n",
       "      <td>Thu</td>\n",
       "      <td>0</td>\n",
       "    </tr>\n",
       "  </tbody>\n",
       "</table>\n",
       "</div>"
      ],
      "text/plain": [
       "   Quarter  Month  DayofMonth  DayOfWeek  FlightDate        Airlines  \\\n",
       "1        1      1           6          4  2022-01-06  Delta Airlines   \n",
       "2        1      1           6          4  2022-01-06  Delta Airlines   \n",
       "3        1      1           6          4  2022-01-06  Delta Airlines   \n",
       "4        1      1           6          4  2022-01-06  Delta Airlines   \n",
       "5        1      1           6          4  2022-01-06  Delta Airlines   \n",
       "\n",
       "          OriginCityName           DestCityName  DepDelay  ArrDelay  AirTime  \\\n",
       "1            Atlanta, GA    Fort Lauderdale, FL      -4.0      -1.0     93.0   \n",
       "2    Fort Lauderdale, FL            Atlanta, GA      -2.0     -12.0     83.0   \n",
       "3    Fort Lauderdale, FL     Raleigh/Durham, NC      -5.0     -15.0     93.0   \n",
       "4            Atlanta, GA  Jackson/Vicksburg, MS      -4.0     -11.0     60.0   \n",
       "5  Jackson/Vicksburg, MS            Atlanta, GA      -7.0     -23.0     49.0   \n",
       "\n",
       "   Distance Month_Str DayOfWeek_Str  Flight_Status  \n",
       "1     581.0       Jan           Thu              0  \n",
       "2     581.0       Jan           Thu              0  \n",
       "3     680.0       Jan           Thu              0  \n",
       "4     341.0       Jan           Thu              0  \n",
       "5     341.0       Jan           Thu              0  "
      ]
     },
     "execution_count": 69,
     "metadata": {},
     "output_type": "execute_result"
    }
   ],
   "source": [
    "status = []\n",
    "\n",
    "for value in df[\"ArrDelay\"]:\n",
    "    if value >15:\n",
    "        status.append(1)\n",
    "    else:\n",
    "        status.append(0)\n",
    "        \n",
    "df[\"Flight_Status\"] = status\n",
    "df.head()    "
   ]
  },
  {
   "cell_type": "code",
   "execution_count": 70,
   "id": "a2cabdb1-1dfc-46c8-a5b6-e1b2896929b5",
   "metadata": {},
   "outputs": [
    {
     "data": {
      "text/plain": [
       "0    0.797357\n",
       "1    0.202643\n",
       "Name: Flight_Status, dtype: float64"
      ]
     },
     "execution_count": 70,
     "metadata": {},
     "output_type": "execute_result"
    }
   ],
   "source": [
    "df.Flight_Status.value_counts(normalize=True)"
   ]
  },
  {
   "cell_type": "markdown",
   "id": "79cba3fa-0459-4414-8bdb-b18c36d282d1",
   "metadata": {
    "tags": []
   },
   "source": [
    "This means that 79,7% of the flights have no delays, but that can be that they arrived either early or on time, and 20,3% of the flight were delayed. "
   ]
  },
  {
   "cell_type": "code",
   "execution_count": 71,
   "id": "dfdc5d50-200c-4476-a3f0-d1ff90d32156",
   "metadata": {},
   "outputs": [
    {
     "data": {
      "text/plain": [
       "Quarter           0\n",
       "Month             0\n",
       "DayofMonth        0\n",
       "DayOfWeek         0\n",
       "FlightDate        0\n",
       "Airlines          0\n",
       "OriginCityName    0\n",
       "DestCityName      0\n",
       "DepDelay          0\n",
       "ArrDelay          0\n",
       "AirTime           0\n",
       "Distance          0\n",
       "Month_Str         0\n",
       "DayOfWeek_Str     0\n",
       "Flight_Status     0\n",
       "dtype: int64"
      ]
     },
     "execution_count": 71,
     "metadata": {},
     "output_type": "execute_result"
    }
   ],
   "source": [
    "df.isna().sum()"
   ]
  },
  {
   "cell_type": "code",
   "execution_count": 72,
   "id": "dc22b1bb-e46f-4611-aaa2-a3cd0fb54263",
   "metadata": {},
   "outputs": [
    {
     "data": {
      "text/plain": [
       "(6804006, 15)"
      ]
     },
     "execution_count": 72,
     "metadata": {},
     "output_type": "execute_result"
    }
   ],
   "source": [
    "df.shape"
   ]
  },
  {
   "cell_type": "code",
   "execution_count": 73,
   "id": "1eaf5dd7-668b-4806-8c62-43628b5a93c0",
   "metadata": {},
   "outputs": [
    {
     "name": "stdout",
     "output_type": "stream",
     "text": [
      "<class 'pandas.core.frame.DataFrame'>\n",
      "Int64Index: 6804006 entries, 1 to 7013507\n",
      "Data columns (total 15 columns):\n",
      " #   Column          Dtype   \n",
      "---  ------          -----   \n",
      " 0   Quarter         int64   \n",
      " 1   Month           int64   \n",
      " 2   DayofMonth      int64   \n",
      " 3   DayOfWeek       int64   \n",
      " 4   FlightDate      object  \n",
      " 5   Airlines        category\n",
      " 6   OriginCityName  category\n",
      " 7   DestCityName    category\n",
      " 8   DepDelay        float64 \n",
      " 9   ArrDelay        float64 \n",
      " 10  AirTime         float64 \n",
      " 11  Distance        float64 \n",
      " 12  Month_Str       object  \n",
      " 13  DayOfWeek_Str   object  \n",
      " 14  Flight_Status   int64   \n",
      "dtypes: category(3), float64(4), int64(5), object(3)\n",
      "memory usage: 707.3+ MB\n"
     ]
    }
   ],
   "source": [
    "df.info()"
   ]
  },
  {
   "cell_type": "code",
   "execution_count": 74,
   "id": "c25f6be9-0181-454d-a23a-f77e4aafb889",
   "metadata": {},
   "outputs": [
    {
     "name": "stderr",
     "output_type": "stream",
     "text": [
      "C:\\Users\\asus3\\AppData\\Local\\Temp\\ipykernel_12228\\3467595808.py:3: FutureWarning: The default value of numeric_only in DataFrame.corr is deprecated. In a future version, it will default to False. Select only valid columns or specify the value of numeric_only to silence this warning.\n",
      "  sns.heatmap(df.corr(), annot=True , linewidths = 0.2, cmap = 'Blues')\n"
     ]
    },
    {
     "data": {
      "text/plain": [
       "<Axes: title={'center': 'Correlation Matrix'}>"
      ]
     },
     "execution_count": 74,
     "metadata": {},
     "output_type": "execute_result"
    },
    {
     "data": {
      "image/png": "[encoded data removed]",
      "text/plain": [
       "<Figure size 1500x1000 with 2 Axes>"
      ]
     },
     "metadata": {},
     "output_type": "display_data"
    }
   ],
   "source": [
    "sns.set(rc={\"figure.figsize\":(15,10)})\n",
    "plt.title(\"Correlation Matrix\")\n",
    "sns.heatmap(df.corr(), annot=True , linewidths = 0.2, cmap = 'Blues')"
   ]
  },
  {
   "cell_type": "code",
   "execution_count": 75,
   "id": "1da314cb-7f77-40a9-ad12-1e6d55784628",
   "metadata": {},
   "outputs": [],
   "source": [
    "df.to_csv('df_EDA.csv')"
   ]
  },
  {
   "cell_type": "code",
   "execution_count": null,
   "id": "f14a9ce8-58e5-4663-82ab-c3bb3b537855",
   "metadata": {},
   "outputs": [],
   "source": []
  }
 ],
 "metadata": {
  "kernelspec": {
   "display_name": "Python 3 (ipykernel)",
   "language": "python",
   "name": "python3"
  },
  "language_info": {
   "codemirror_mode": {
    "name": "ipython",
    "version": 3
   },
   "file_extension": ".py",
   "mimetype": "text/x-python",
   "name": "python",
   "nbconvert_exporter": "python",
   "pygments_lexer": "ipython3",
   "version": "3.10.9"
  }
 },
 "nbformat": 4,
 "nbformat_minor": 5
}
